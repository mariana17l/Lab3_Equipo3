{
 "cells": [
  {
   "cell_type": "markdown",
   "metadata": {},
   "source": [
    "# Microestructuras y Sistemas de Trading\n",
    "## Laboratorio 1\n",
    "### Equipo C"
   ]
  },
  {
   "cell_type": "markdown",
   "metadata": {},
   "source": [
    "## <font color=\"blue\">  \"PARADOX OF CHOICE\""
   ]
  },
  {
   "cell_type": "markdown",
   "metadata": {},
   "source": [
    "* <font color=\"black\">**INTEGRANTE 1 :**</font> Mariana López Correa\n",
    "* <font color=\"black\">**INTEGRANTE 2 :**</font> Axel Francisco Munguía Quintero"
   ]
  },
  {
   "cell_type": "code",
   "execution_count": 1,
   "metadata": {},
   "outputs": [],
   "source": [
    "import numpy as np\n",
    "import pandas as pd\n",
    "import matplotlib.pyplot as plt\n",
    "from datetime import datetime , timedelta"
   ]
  },
  {
   "cell_type": "code",
   "execution_count": 27,
   "metadata": {},
   "outputs": [],
   "source": [
    "data= pd.read_excel(\"archivo_tradeview_2.xlsx\",index_col='openTime').sort_index()\n",
    "#data.index=pd.DatetimeIndex(data.index)"
   ]
  },
  {
   "cell_type": "code",
   "execution_count": 28,
   "metadata": {},
   "outputs": [
    {
     "data": {
      "text/html": [
       "<div>\n",
       "<style scoped>\n",
       "    .dataframe tbody tr th:only-of-type {\n",
       "        vertical-align: middle;\n",
       "    }\n",
       "\n",
       "    .dataframe tbody tr th {\n",
       "        vertical-align: top;\n",
       "    }\n",
       "\n",
       "    .dataframe thead th {\n",
       "        text-align: right;\n",
       "    }\n",
       "</style>\n",
       "<table border=\"1\" class=\"dataframe\">\n",
       "  <thead>\n",
       "    <tr style=\"text-align: right;\">\n",
       "      <th></th>\n",
       "      <th>Order</th>\n",
       "      <th>Type</th>\n",
       "      <th>Size</th>\n",
       "      <th>Symbol</th>\n",
       "      <th>openPrice</th>\n",
       "      <th>S/L</th>\n",
       "      <th>T/P</th>\n",
       "      <th>closeTime</th>\n",
       "      <th>closePrice</th>\n",
       "      <th>Commission</th>\n",
       "      <th>Taxes</th>\n",
       "      <th>Swap</th>\n",
       "      <th>Profit</th>\n",
       "    </tr>\n",
       "    <tr>\n",
       "      <th>openTime</th>\n",
       "      <th></th>\n",
       "      <th></th>\n",
       "      <th></th>\n",
       "      <th></th>\n",
       "      <th></th>\n",
       "      <th></th>\n",
       "      <th></th>\n",
       "      <th></th>\n",
       "      <th></th>\n",
       "      <th></th>\n",
       "      <th></th>\n",
       "      <th></th>\n",
       "      <th></th>\n",
       "    </tr>\n",
       "  </thead>\n",
       "  <tbody>\n",
       "    <tr>\n",
       "      <th>2019.08.27 06:18:03</th>\n",
       "      <td>24311675</td>\n",
       "      <td>sell</td>\n",
       "      <td>0.04</td>\n",
       "      <td>eurjpy</td>\n",
       "      <td>117.40700</td>\n",
       "      <td>117.7000</td>\n",
       "      <td>0.000</td>\n",
       "      <td>2019.08.27 06:20:11</td>\n",
       "      <td>117.42300</td>\n",
       "      <td>0.0</td>\n",
       "      <td>0</td>\n",
       "      <td>0</td>\n",
       "      <td>-0.61</td>\n",
       "    </tr>\n",
       "    <tr>\n",
       "      <th>2019.08.27 06:22:44</th>\n",
       "      <td>24311730</td>\n",
       "      <td>sell</td>\n",
       "      <td>0.04</td>\n",
       "      <td>eurjpy</td>\n",
       "      <td>117.38900</td>\n",
       "      <td>117.7000</td>\n",
       "      <td>0.000</td>\n",
       "      <td>2019.08.27 06:23:28</td>\n",
       "      <td>117.41200</td>\n",
       "      <td>0.0</td>\n",
       "      <td>0</td>\n",
       "      <td>0</td>\n",
       "      <td>-0.87</td>\n",
       "    </tr>\n",
       "    <tr>\n",
       "      <th>2019.08.27 06:23:44</th>\n",
       "      <td>24311745</td>\n",
       "      <td>sell</td>\n",
       "      <td>0.04</td>\n",
       "      <td>eurjpy</td>\n",
       "      <td>117.36800</td>\n",
       "      <td>0.0000</td>\n",
       "      <td>0.000</td>\n",
       "      <td>2019.08.27 06:24:13</td>\n",
       "      <td>117.40200</td>\n",
       "      <td>0.0</td>\n",
       "      <td>0</td>\n",
       "      <td>0</td>\n",
       "      <td>-1.29</td>\n",
       "    </tr>\n",
       "    <tr>\n",
       "      <th>2019.08.27 06:45:16</th>\n",
       "      <td>24315841</td>\n",
       "      <td>sell</td>\n",
       "      <td>0.05</td>\n",
       "      <td>eurjpy</td>\n",
       "      <td>117.34300</td>\n",
       "      <td>117.6500</td>\n",
       "      <td>117.100</td>\n",
       "      <td>2019.08.27 09:16:08</td>\n",
       "      <td>117.31500</td>\n",
       "      <td>0.0</td>\n",
       "      <td>0</td>\n",
       "      <td>0</td>\n",
       "      <td>1.32</td>\n",
       "    </tr>\n",
       "    <tr>\n",
       "      <th>2019.08.27 06:52:01</th>\n",
       "      <td>24315970</td>\n",
       "      <td>sell</td>\n",
       "      <td>0.04</td>\n",
       "      <td>eurusd</td>\n",
       "      <td>1.11005</td>\n",
       "      <td>1.1126</td>\n",
       "      <td>1.107</td>\n",
       "      <td>2019.08.27 09:16:04</td>\n",
       "      <td>1.11027</td>\n",
       "      <td>0.0</td>\n",
       "      <td>0</td>\n",
       "      <td>0</td>\n",
       "      <td>-0.88</td>\n",
       "    </tr>\n",
       "  </tbody>\n",
       "</table>\n",
       "</div>"
      ],
      "text/plain": [
       "                        Order  Type  Size  Symbol  openPrice       S/L  \\\n",
       "openTime                                                                 \n",
       "2019.08.27 06:18:03  24311675  sell  0.04  eurjpy  117.40700  117.7000   \n",
       "2019.08.27 06:22:44  24311730  sell  0.04  eurjpy  117.38900  117.7000   \n",
       "2019.08.27 06:23:44  24311745  sell  0.04  eurjpy  117.36800    0.0000   \n",
       "2019.08.27 06:45:16  24315841  sell  0.05  eurjpy  117.34300  117.6500   \n",
       "2019.08.27 06:52:01  24315970  sell  0.04  eurusd    1.11005    1.1126   \n",
       "\n",
       "                         T/P            closeTime  closePrice  Commission  \\\n",
       "openTime                                                                    \n",
       "2019.08.27 06:18:03    0.000  2019.08.27 06:20:11   117.42300         0.0   \n",
       "2019.08.27 06:22:44    0.000  2019.08.27 06:23:28   117.41200         0.0   \n",
       "2019.08.27 06:23:44    0.000  2019.08.27 06:24:13   117.40200         0.0   \n",
       "2019.08.27 06:45:16  117.100  2019.08.27 09:16:08   117.31500         0.0   \n",
       "2019.08.27 06:52:01    1.107  2019.08.27 09:16:04     1.11027         0.0   \n",
       "\n",
       "                     Taxes  Swap  Profit  \n",
       "openTime                                  \n",
       "2019.08.27 06:18:03      0     0   -0.61  \n",
       "2019.08.27 06:22:44      0     0   -0.87  \n",
       "2019.08.27 06:23:44      0     0   -1.29  \n",
       "2019.08.27 06:45:16      0     0    1.32  \n",
       "2019.08.27 06:52:01      0     0   -0.88  "
      ]
     },
     "execution_count": 28,
     "metadata": {},
     "output_type": "execute_result"
    }
   ],
   "source": [
    "data.head()"
   ]
  },
  {
   "cell_type": "code",
   "execution_count": 65,
   "metadata": {},
   "outputs": [],
   "source": [
    "data.index = [data.index[k][:10] for k in range(data.shape[0])]"
   ]
  },
  {
   "cell_type": "code",
   "execution_count": 66,
   "metadata": {},
   "outputs": [
    {
     "data": {
      "text/html": [
       "<div>\n",
       "<style scoped>\n",
       "    .dataframe tbody tr th:only-of-type {\n",
       "        vertical-align: middle;\n",
       "    }\n",
       "\n",
       "    .dataframe tbody tr th {\n",
       "        vertical-align: top;\n",
       "    }\n",
       "\n",
       "    .dataframe thead th {\n",
       "        text-align: right;\n",
       "    }\n",
       "</style>\n",
       "<table border=\"1\" class=\"dataframe\">\n",
       "  <thead>\n",
       "    <tr style=\"text-align: right;\">\n",
       "      <th></th>\n",
       "      <th>Order</th>\n",
       "      <th>Type</th>\n",
       "      <th>Size</th>\n",
       "      <th>Symbol</th>\n",
       "      <th>openPrice</th>\n",
       "      <th>S/L</th>\n",
       "      <th>T/P</th>\n",
       "      <th>closeTime</th>\n",
       "      <th>closePrice</th>\n",
       "      <th>Commission</th>\n",
       "      <th>Taxes</th>\n",
       "      <th>Swap</th>\n",
       "      <th>Profit</th>\n",
       "    </tr>\n",
       "  </thead>\n",
       "  <tbody>\n",
       "    <tr>\n",
       "      <th>2019.08.27</th>\n",
       "      <td>24311675</td>\n",
       "      <td>sell</td>\n",
       "      <td>0.04</td>\n",
       "      <td>eurjpy</td>\n",
       "      <td>117.40700</td>\n",
       "      <td>117.7000</td>\n",
       "      <td>0.000</td>\n",
       "      <td>2019.08.27 06:20:11</td>\n",
       "      <td>117.42300</td>\n",
       "      <td>0.0</td>\n",
       "      <td>0</td>\n",
       "      <td>0</td>\n",
       "      <td>-0.61</td>\n",
       "    </tr>\n",
       "    <tr>\n",
       "      <th>2019.08.27</th>\n",
       "      <td>24311730</td>\n",
       "      <td>sell</td>\n",
       "      <td>0.04</td>\n",
       "      <td>eurjpy</td>\n",
       "      <td>117.38900</td>\n",
       "      <td>117.7000</td>\n",
       "      <td>0.000</td>\n",
       "      <td>2019.08.27 06:23:28</td>\n",
       "      <td>117.41200</td>\n",
       "      <td>0.0</td>\n",
       "      <td>0</td>\n",
       "      <td>0</td>\n",
       "      <td>-0.87</td>\n",
       "    </tr>\n",
       "    <tr>\n",
       "      <th>2019.08.27</th>\n",
       "      <td>24311745</td>\n",
       "      <td>sell</td>\n",
       "      <td>0.04</td>\n",
       "      <td>eurjpy</td>\n",
       "      <td>117.36800</td>\n",
       "      <td>0.0000</td>\n",
       "      <td>0.000</td>\n",
       "      <td>2019.08.27 06:24:13</td>\n",
       "      <td>117.40200</td>\n",
       "      <td>0.0</td>\n",
       "      <td>0</td>\n",
       "      <td>0</td>\n",
       "      <td>-1.29</td>\n",
       "    </tr>\n",
       "    <tr>\n",
       "      <th>2019.08.27</th>\n",
       "      <td>24315841</td>\n",
       "      <td>sell</td>\n",
       "      <td>0.05</td>\n",
       "      <td>eurjpy</td>\n",
       "      <td>117.34300</td>\n",
       "      <td>117.6500</td>\n",
       "      <td>117.100</td>\n",
       "      <td>2019.08.27 09:16:08</td>\n",
       "      <td>117.31500</td>\n",
       "      <td>0.0</td>\n",
       "      <td>0</td>\n",
       "      <td>0</td>\n",
       "      <td>1.32</td>\n",
       "    </tr>\n",
       "    <tr>\n",
       "      <th>2019.08.27</th>\n",
       "      <td>24315970</td>\n",
       "      <td>sell</td>\n",
       "      <td>0.04</td>\n",
       "      <td>eurusd</td>\n",
       "      <td>1.11005</td>\n",
       "      <td>1.1126</td>\n",
       "      <td>1.107</td>\n",
       "      <td>2019.08.27 09:16:04</td>\n",
       "      <td>1.11027</td>\n",
       "      <td>0.0</td>\n",
       "      <td>0</td>\n",
       "      <td>0</td>\n",
       "      <td>-0.88</td>\n",
       "    </tr>\n",
       "  </tbody>\n",
       "</table>\n",
       "</div>"
      ],
      "text/plain": [
       "               Order  Type  Size  Symbol  openPrice       S/L      T/P  \\\n",
       "2019.08.27  24311675  sell  0.04  eurjpy  117.40700  117.7000    0.000   \n",
       "2019.08.27  24311730  sell  0.04  eurjpy  117.38900  117.7000    0.000   \n",
       "2019.08.27  24311745  sell  0.04  eurjpy  117.36800    0.0000    0.000   \n",
       "2019.08.27  24315841  sell  0.05  eurjpy  117.34300  117.6500  117.100   \n",
       "2019.08.27  24315970  sell  0.04  eurusd    1.11005    1.1126    1.107   \n",
       "\n",
       "                      closeTime  closePrice  Commission  Taxes  Swap  Profit  \n",
       "2019.08.27  2019.08.27 06:20:11   117.42300         0.0      0     0   -0.61  \n",
       "2019.08.27  2019.08.27 06:23:28   117.41200         0.0      0     0   -0.87  \n",
       "2019.08.27  2019.08.27 06:24:13   117.40200         0.0      0     0   -1.29  \n",
       "2019.08.27  2019.08.27 09:16:08   117.31500         0.0      0     0    1.32  \n",
       "2019.08.27  2019.08.27 09:16:04     1.11027         0.0      0     0   -0.88  "
      ]
     },
     "execution_count": 66,
     "metadata": {},
     "output_type": "execute_result"
    }
   ],
   "source": [
    "data.head()"
   ]
  },
  {
   "cell_type": "code",
   "execution_count": 67,
   "metadata": {},
   "outputs": [],
   "source": [
    "dataframes = []\n",
    "contador = 0\n",
    "for k in range(len(data.index[1:])):\n",
    "    if data.index[k-1]==data.index[k]:\n",
    "        contador +=1 \n",
    "        continue\n",
    "    else: \n",
    "        dataframes.append(data.iloc[(k-contador):k,:])\n",
    "        contador= 0\n",
    "dataframes = dataframes[1:]\n",
    "# Eliminar los espacios vacíos\n",
    "dataframes = [k for k in dataframes if len(k)>=1]"
   ]
  },
  {
   "cell_type": "code",
   "execution_count": 69,
   "metadata": {},
   "outputs": [
    {
     "data": {
      "text/html": [
       "<div>\n",
       "<style scoped>\n",
       "    .dataframe tbody tr th:only-of-type {\n",
       "        vertical-align: middle;\n",
       "    }\n",
       "\n",
       "    .dataframe tbody tr th {\n",
       "        vertical-align: top;\n",
       "    }\n",
       "\n",
       "    .dataframe thead th {\n",
       "        text-align: right;\n",
       "    }\n",
       "</style>\n",
       "<table border=\"1\" class=\"dataframe\">\n",
       "  <thead>\n",
       "    <tr style=\"text-align: right;\">\n",
       "      <th></th>\n",
       "      <th>Order</th>\n",
       "      <th>Type</th>\n",
       "      <th>Size</th>\n",
       "      <th>Symbol</th>\n",
       "      <th>openPrice</th>\n",
       "      <th>S/L</th>\n",
       "      <th>T/P</th>\n",
       "      <th>closeTime</th>\n",
       "      <th>closePrice</th>\n",
       "      <th>Commission</th>\n",
       "      <th>Taxes</th>\n",
       "      <th>Swap</th>\n",
       "      <th>Profit</th>\n",
       "    </tr>\n",
       "  </thead>\n",
       "  <tbody>\n",
       "    <tr>\n",
       "      <th>2019.08.27</th>\n",
       "      <td>24311730</td>\n",
       "      <td>sell</td>\n",
       "      <td>0.04</td>\n",
       "      <td>eurjpy</td>\n",
       "      <td>117.38900</td>\n",
       "      <td>117.7000</td>\n",
       "      <td>0.000</td>\n",
       "      <td>2019.08.27 06:23:28</td>\n",
       "      <td>117.41200</td>\n",
       "      <td>0.0</td>\n",
       "      <td>0</td>\n",
       "      <td>0</td>\n",
       "      <td>-0.87</td>\n",
       "    </tr>\n",
       "    <tr>\n",
       "      <th>2019.08.27</th>\n",
       "      <td>24311745</td>\n",
       "      <td>sell</td>\n",
       "      <td>0.04</td>\n",
       "      <td>eurjpy</td>\n",
       "      <td>117.36800</td>\n",
       "      <td>0.0000</td>\n",
       "      <td>0.000</td>\n",
       "      <td>2019.08.27 06:24:13</td>\n",
       "      <td>117.40200</td>\n",
       "      <td>0.0</td>\n",
       "      <td>0</td>\n",
       "      <td>0</td>\n",
       "      <td>-1.29</td>\n",
       "    </tr>\n",
       "    <tr>\n",
       "      <th>2019.08.27</th>\n",
       "      <td>24315841</td>\n",
       "      <td>sell</td>\n",
       "      <td>0.05</td>\n",
       "      <td>eurjpy</td>\n",
       "      <td>117.34300</td>\n",
       "      <td>117.6500</td>\n",
       "      <td>117.100</td>\n",
       "      <td>2019.08.27 09:16:08</td>\n",
       "      <td>117.31500</td>\n",
       "      <td>0.0</td>\n",
       "      <td>0</td>\n",
       "      <td>0</td>\n",
       "      <td>1.32</td>\n",
       "    </tr>\n",
       "    <tr>\n",
       "      <th>2019.08.27</th>\n",
       "      <td>24315970</td>\n",
       "      <td>sell</td>\n",
       "      <td>0.04</td>\n",
       "      <td>eurusd</td>\n",
       "      <td>1.11005</td>\n",
       "      <td>1.1126</td>\n",
       "      <td>1.107</td>\n",
       "      <td>2019.08.27 09:16:04</td>\n",
       "      <td>1.11027</td>\n",
       "      <td>0.0</td>\n",
       "      <td>0</td>\n",
       "      <td>0</td>\n",
       "      <td>-0.88</td>\n",
       "    </tr>\n",
       "    <tr>\n",
       "      <th>2019.08.27</th>\n",
       "      <td>24316034</td>\n",
       "      <td>buy</td>\n",
       "      <td>0.04</td>\n",
       "      <td>xauusd</td>\n",
       "      <td>1529.21000</td>\n",
       "      <td>1523.0000</td>\n",
       "      <td>1543.000</td>\n",
       "      <td>2019.08.27 09:16:01</td>\n",
       "      <td>1533.69000</td>\n",
       "      <td>0.0</td>\n",
       "      <td>0</td>\n",
       "      <td>0</td>\n",
       "      <td>17.92</td>\n",
       "    </tr>\n",
       "    <tr>\n",
       "      <th>2019.08.27</th>\n",
       "      <td>24318553</td>\n",
       "      <td>sell</td>\n",
       "      <td>0.05</td>\n",
       "      <td>eurgbp</td>\n",
       "      <td>0.90821</td>\n",
       "      <td>0.9120</td>\n",
       "      <td>0.903</td>\n",
       "      <td>2019.08.27 13:31:11</td>\n",
       "      <td>0.90559</td>\n",
       "      <td>0.0</td>\n",
       "      <td>0</td>\n",
       "      <td>0</td>\n",
       "      <td>16.07</td>\n",
       "    </tr>\n",
       "    <tr>\n",
       "      <th>2019.08.27</th>\n",
       "      <td>24325707</td>\n",
       "      <td>sell</td>\n",
       "      <td>0.04</td>\n",
       "      <td>eurusd</td>\n",
       "      <td>1.11060</td>\n",
       "      <td>1.1130</td>\n",
       "      <td>1.107</td>\n",
       "      <td>2019.08.27 13:57:03</td>\n",
       "      <td>1.11093</td>\n",
       "      <td>0.0</td>\n",
       "      <td>0</td>\n",
       "      <td>0</td>\n",
       "      <td>-1.32</td>\n",
       "    </tr>\n",
       "    <tr>\n",
       "      <th>2019.08.27</th>\n",
       "      <td>24325723</td>\n",
       "      <td>sell</td>\n",
       "      <td>0.04</td>\n",
       "      <td>eurusd</td>\n",
       "      <td>1.11062</td>\n",
       "      <td>1.1130</td>\n",
       "      <td>1.107</td>\n",
       "      <td>2019.08.27 13:57:57</td>\n",
       "      <td>1.11079</td>\n",
       "      <td>0.0</td>\n",
       "      <td>0</td>\n",
       "      <td>0</td>\n",
       "      <td>-0.68</td>\n",
       "    </tr>\n",
       "    <tr>\n",
       "      <th>2019.08.27</th>\n",
       "      <td>24325740</td>\n",
       "      <td>sell</td>\n",
       "      <td>0.05</td>\n",
       "      <td>eurusd</td>\n",
       "      <td>1.11049</td>\n",
       "      <td>1.1130</td>\n",
       "      <td>1.107</td>\n",
       "      <td>2019.08.27 14:02:05</td>\n",
       "      <td>1.11090</td>\n",
       "      <td>0.0</td>\n",
       "      <td>0</td>\n",
       "      <td>0</td>\n",
       "      <td>-2.05</td>\n",
       "    </tr>\n",
       "    <tr>\n",
       "      <th>2019.08.27</th>\n",
       "      <td>24392449</td>\n",
       "      <td>buy</td>\n",
       "      <td>0.04</td>\n",
       "      <td>eurjpy</td>\n",
       "      <td>117.66400</td>\n",
       "      <td>117.4000</td>\n",
       "      <td>118.700</td>\n",
       "      <td>2019.08.30 09:17:23</td>\n",
       "      <td>117.39900</td>\n",
       "      <td>0.0</td>\n",
       "      <td>0</td>\n",
       "      <td>0</td>\n",
       "      <td>-9.98</td>\n",
       "    </tr>\n",
       "    <tr>\n",
       "      <th>2019.08.27</th>\n",
       "      <td>24334215</td>\n",
       "      <td>buy</td>\n",
       "      <td>0.01</td>\n",
       "      <td>eurjpy</td>\n",
       "      <td>117.66400</td>\n",
       "      <td>116.9500</td>\n",
       "      <td>118.700</td>\n",
       "      <td>2019.08.29 06:38:16</td>\n",
       "      <td>117.37400</td>\n",
       "      <td>0.0</td>\n",
       "      <td>0</td>\n",
       "      <td>0</td>\n",
       "      <td>-2.73</td>\n",
       "    </tr>\n",
       "    <tr>\n",
       "      <th>2019.08.27</th>\n",
       "      <td>24342155</td>\n",
       "      <td>buy</td>\n",
       "      <td>0.05</td>\n",
       "      <td>eurjpy</td>\n",
       "      <td>117.34600</td>\n",
       "      <td>116.9500</td>\n",
       "      <td>119.700</td>\n",
       "      <td>2019.08.28 21:01:24</td>\n",
       "      <td>117.45200</td>\n",
       "      <td>0.0</td>\n",
       "      <td>0</td>\n",
       "      <td>0</td>\n",
       "      <td>5.00</td>\n",
       "    </tr>\n",
       "  </tbody>\n",
       "</table>\n",
       "</div>"
      ],
      "text/plain": [
       "               Order  Type  Size  Symbol   openPrice        S/L       T/P  \\\n",
       "2019.08.27  24311730  sell  0.04  eurjpy   117.38900   117.7000     0.000   \n",
       "2019.08.27  24311745  sell  0.04  eurjpy   117.36800     0.0000     0.000   \n",
       "2019.08.27  24315841  sell  0.05  eurjpy   117.34300   117.6500   117.100   \n",
       "2019.08.27  24315970  sell  0.04  eurusd     1.11005     1.1126     1.107   \n",
       "2019.08.27  24316034   buy  0.04  xauusd  1529.21000  1523.0000  1543.000   \n",
       "2019.08.27  24318553  sell  0.05  eurgbp     0.90821     0.9120     0.903   \n",
       "2019.08.27  24325707  sell  0.04  eurusd     1.11060     1.1130     1.107   \n",
       "2019.08.27  24325723  sell  0.04  eurusd     1.11062     1.1130     1.107   \n",
       "2019.08.27  24325740  sell  0.05  eurusd     1.11049     1.1130     1.107   \n",
       "2019.08.27  24392449   buy  0.04  eurjpy   117.66400   117.4000   118.700   \n",
       "2019.08.27  24334215   buy  0.01  eurjpy   117.66400   116.9500   118.700   \n",
       "2019.08.27  24342155   buy  0.05  eurjpy   117.34600   116.9500   119.700   \n",
       "\n",
       "                      closeTime  closePrice  Commission  Taxes  Swap  Profit  \n",
       "2019.08.27  2019.08.27 06:23:28   117.41200         0.0      0     0   -0.87  \n",
       "2019.08.27  2019.08.27 06:24:13   117.40200         0.0      0     0   -1.29  \n",
       "2019.08.27  2019.08.27 09:16:08   117.31500         0.0      0     0    1.32  \n",
       "2019.08.27  2019.08.27 09:16:04     1.11027         0.0      0     0   -0.88  \n",
       "2019.08.27  2019.08.27 09:16:01  1533.69000         0.0      0     0   17.92  \n",
       "2019.08.27  2019.08.27 13:31:11     0.90559         0.0      0     0   16.07  \n",
       "2019.08.27  2019.08.27 13:57:03     1.11093         0.0      0     0   -1.32  \n",
       "2019.08.27  2019.08.27 13:57:57     1.11079         0.0      0     0   -0.68  \n",
       "2019.08.27  2019.08.27 14:02:05     1.11090         0.0      0     0   -2.05  \n",
       "2019.08.27  2019.08.30 09:17:23   117.39900         0.0      0     0   -9.98  \n",
       "2019.08.27  2019.08.29 06:38:16   117.37400         0.0      0     0   -2.73  \n",
       "2019.08.27  2019.08.28 21:01:24   117.45200         0.0      0     0    5.00  "
      ]
     },
     "execution_count": 69,
     "metadata": {},
     "output_type": "execute_result"
    }
   ],
   "source": [
    "dataframes[0]"
   ]
  },
  {
   "cell_type": "code",
   "execution_count": 70,
   "metadata": {},
   "outputs": [
    {
     "data": {
      "text/html": [
       "<div>\n",
       "<style scoped>\n",
       "    .dataframe tbody tr th:only-of-type {\n",
       "        vertical-align: middle;\n",
       "    }\n",
       "\n",
       "    .dataframe tbody tr th {\n",
       "        vertical-align: top;\n",
       "    }\n",
       "\n",
       "    .dataframe thead th {\n",
       "        text-align: right;\n",
       "    }\n",
       "</style>\n",
       "<table border=\"1\" class=\"dataframe\">\n",
       "  <thead>\n",
       "    <tr style=\"text-align: right;\">\n",
       "      <th></th>\n",
       "      <th>Order</th>\n",
       "      <th>Type</th>\n",
       "      <th>Size</th>\n",
       "      <th>Symbol</th>\n",
       "      <th>openPrice</th>\n",
       "      <th>S/L</th>\n",
       "      <th>T/P</th>\n",
       "      <th>closeTime</th>\n",
       "      <th>closePrice</th>\n",
       "      <th>Commission</th>\n",
       "      <th>Taxes</th>\n",
       "      <th>Swap</th>\n",
       "      <th>Profit</th>\n",
       "    </tr>\n",
       "  </thead>\n",
       "  <tbody>\n",
       "    <tr>\n",
       "      <th>2019.08.28</th>\n",
       "      <td>24373260</td>\n",
       "      <td>buy</td>\n",
       "      <td>0.01</td>\n",
       "      <td>eurusd</td>\n",
       "      <td>1.10791</td>\n",
       "      <td>1.104</td>\n",
       "      <td>1.1175</td>\n",
       "      <td>2019.08.29 06:38:28</td>\n",
       "      <td>1.10818</td>\n",
       "      <td>0.0</td>\n",
       "      <td>0</td>\n",
       "      <td>0</td>\n",
       "      <td>0.27</td>\n",
       "    </tr>\n",
       "  </tbody>\n",
       "</table>\n",
       "</div>"
      ],
      "text/plain": [
       "               Order Type  Size  Symbol  openPrice    S/L     T/P  \\\n",
       "2019.08.28  24373260  buy  0.01  eurusd    1.10791  1.104  1.1175   \n",
       "\n",
       "                      closeTime  closePrice  Commission  Taxes  Swap  Profit  \n",
       "2019.08.28  2019.08.29 06:38:28     1.10818         0.0      0     0    0.27  "
      ]
     },
     "execution_count": 70,
     "metadata": {},
     "output_type": "execute_result"
    }
   ],
   "source": [
    "dataframes[1]"
   ]
  },
  {
   "cell_type": "code",
   "execution_count": 71,
   "metadata": {},
   "outputs": [
    {
     "data": {
      "text/html": [
       "<div>\n",
       "<style scoped>\n",
       "    .dataframe tbody tr th:only-of-type {\n",
       "        vertical-align: middle;\n",
       "    }\n",
       "\n",
       "    .dataframe tbody tr th {\n",
       "        vertical-align: top;\n",
       "    }\n",
       "\n",
       "    .dataframe thead th {\n",
       "        text-align: right;\n",
       "    }\n",
       "</style>\n",
       "<table border=\"1\" class=\"dataframe\">\n",
       "  <thead>\n",
       "    <tr style=\"text-align: right;\">\n",
       "      <th></th>\n",
       "      <th>Order</th>\n",
       "      <th>Type</th>\n",
       "      <th>Size</th>\n",
       "      <th>Symbol</th>\n",
       "      <th>openPrice</th>\n",
       "      <th>S/L</th>\n",
       "      <th>T/P</th>\n",
       "      <th>closeTime</th>\n",
       "      <th>closePrice</th>\n",
       "      <th>Commission</th>\n",
       "      <th>Taxes</th>\n",
       "      <th>Swap</th>\n",
       "      <th>Profit</th>\n",
       "    </tr>\n",
       "  </thead>\n",
       "  <tbody>\n",
       "    <tr>\n",
       "      <th>2019.08.29</th>\n",
       "      <td>24392415</td>\n",
       "      <td>buy</td>\n",
       "      <td>0.01</td>\n",
       "      <td>gbpusd</td>\n",
       "      <td>1.22024</td>\n",
       "      <td>1.2080</td>\n",
       "      <td>1.237</td>\n",
       "      <td>2019.08.29 06:37:23</td>\n",
       "      <td>1.21990</td>\n",
       "      <td>0.0</td>\n",
       "      <td>0</td>\n",
       "      <td>0</td>\n",
       "      <td>-0.34</td>\n",
       "    </tr>\n",
       "    <tr>\n",
       "      <th>2019.08.29</th>\n",
       "      <td>24392425</td>\n",
       "      <td>buy</td>\n",
       "      <td>0.01</td>\n",
       "      <td>gbpjpy</td>\n",
       "      <td>129.23400</td>\n",
       "      <td>128.0000</td>\n",
       "      <td>132.200</td>\n",
       "      <td>2019.08.29 06:36:58</td>\n",
       "      <td>129.21000</td>\n",
       "      <td>0.0</td>\n",
       "      <td>0</td>\n",
       "      <td>0</td>\n",
       "      <td>-0.23</td>\n",
       "    </tr>\n",
       "    <tr>\n",
       "      <th>2019.08.29</th>\n",
       "      <td>24392432</td>\n",
       "      <td>buy</td>\n",
       "      <td>0.04</td>\n",
       "      <td>gbpjpy</td>\n",
       "      <td>129.23400</td>\n",
       "      <td>128.0000</td>\n",
       "      <td>132.200</td>\n",
       "      <td>2019.08.29 15:01:24</td>\n",
       "      <td>129.80100</td>\n",
       "      <td>0.0</td>\n",
       "      <td>0</td>\n",
       "      <td>0</td>\n",
       "      <td>21.35</td>\n",
       "    </tr>\n",
       "    <tr>\n",
       "      <th>2019.08.29</th>\n",
       "      <td>24416172</td>\n",
       "      <td>buy</td>\n",
       "      <td>0.04</td>\n",
       "      <td>eurusd</td>\n",
       "      <td>1.10543</td>\n",
       "      <td>1.1040</td>\n",
       "      <td>0.000</td>\n",
       "      <td>2019.08.29 19:56:51</td>\n",
       "      <td>1.10518</td>\n",
       "      <td>0.0</td>\n",
       "      <td>0</td>\n",
       "      <td>0</td>\n",
       "      <td>-1.00</td>\n",
       "    </tr>\n",
       "    <tr>\n",
       "      <th>2019.08.29</th>\n",
       "      <td>24416187</td>\n",
       "      <td>buy</td>\n",
       "      <td>0.05</td>\n",
       "      <td>eurusd</td>\n",
       "      <td>1.10545</td>\n",
       "      <td>1.1015</td>\n",
       "      <td>0.000</td>\n",
       "      <td>2019.08.30 17:57:14</td>\n",
       "      <td>1.10150</td>\n",
       "      <td>0.0</td>\n",
       "      <td>0</td>\n",
       "      <td>0</td>\n",
       "      <td>-19.75</td>\n",
       "    </tr>\n",
       "    <tr>\n",
       "      <th>2019.08.29</th>\n",
       "      <td>24417804</td>\n",
       "      <td>buy</td>\n",
       "      <td>0.05</td>\n",
       "      <td>xauusd</td>\n",
       "      <td>1528.76000</td>\n",
       "      <td>1524.0000</td>\n",
       "      <td>1555.000</td>\n",
       "      <td>2019.08.29 21:11:08</td>\n",
       "      <td>1523.80000</td>\n",
       "      <td>0.0</td>\n",
       "      <td>0</td>\n",
       "      <td>0</td>\n",
       "      <td>-24.80</td>\n",
       "    </tr>\n",
       "  </tbody>\n",
       "</table>\n",
       "</div>"
      ],
      "text/plain": [
       "               Order Type  Size  Symbol   openPrice        S/L       T/P  \\\n",
       "2019.08.29  24392415  buy  0.01  gbpusd     1.22024     1.2080     1.237   \n",
       "2019.08.29  24392425  buy  0.01  gbpjpy   129.23400   128.0000   132.200   \n",
       "2019.08.29  24392432  buy  0.04  gbpjpy   129.23400   128.0000   132.200   \n",
       "2019.08.29  24416172  buy  0.04  eurusd     1.10543     1.1040     0.000   \n",
       "2019.08.29  24416187  buy  0.05  eurusd     1.10545     1.1015     0.000   \n",
       "2019.08.29  24417804  buy  0.05  xauusd  1528.76000  1524.0000  1555.000   \n",
       "\n",
       "                      closeTime  closePrice  Commission  Taxes  Swap  Profit  \n",
       "2019.08.29  2019.08.29 06:37:23     1.21990         0.0      0     0   -0.34  \n",
       "2019.08.29  2019.08.29 06:36:58   129.21000         0.0      0     0   -0.23  \n",
       "2019.08.29  2019.08.29 15:01:24   129.80100         0.0      0     0   21.35  \n",
       "2019.08.29  2019.08.29 19:56:51     1.10518         0.0      0     0   -1.00  \n",
       "2019.08.29  2019.08.30 17:57:14     1.10150         0.0      0     0  -19.75  \n",
       "2019.08.29  2019.08.29 21:11:08  1523.80000         0.0      0     0  -24.80  "
      ]
     },
     "execution_count": 71,
     "metadata": {},
     "output_type": "execute_result"
    }
   ],
   "source": [
    "dataframes[2]"
   ]
  },
  {
   "cell_type": "code",
   "execution_count": 75,
   "metadata": {
    "scrolled": false
   },
   "outputs": [
    {
     "data": {
      "image/png": "[encoded data removed]",
      "text/plain": [
       "<Figure size 432x288 with 1 Axes>"
      ]
     },
     "metadata": {
      "needs_background": "light"
     },
     "output_type": "display_data"
    },
    {
     "data": {
      "image/png": "[encoded data removed]",
      "text/plain": [
       "<Figure size 432x288 with 1 Axes>"
      ]
     },
     "metadata": {
      "needs_background": "light"
     },
     "output_type": "display_data"
    },
    {
     "data": {
      "image/png": "[encoded data removed]",
      "text/plain": [
       "<Figure size 432x288 with 1 Axes>"
      ]
     },
     "metadata": {
      "needs_background": "light"
     },
     "output_type": "display_data"
    },
    {
     "data": {
      "image/png": "[encoded data removed]",
      "text/plain": [
       "<Figure size 432x288 with 1 Axes>"
      ]
     },
     "metadata": {
      "needs_background": "light"
     },
     "output_type": "display_data"
    },
    {
     "data": {
      "image/png": "[encoded data removed]",
      "text/plain": [
       "<Figure size 432x288 with 1 Axes>"
      ]
     },
     "metadata": {
      "needs_background": "light"
     },
     "output_type": "display_data"
    },
    {
     "data": {
      "image/png": "[encoded data removed]",
      "text/plain": [
       "<Figure size 432x288 with 1 Axes>"
      ]
     },
     "metadata": {
      "needs_background": "light"
     },
     "output_type": "display_data"
    },
    {
     "data": {
      "image/png": "[encoded data removed]",
      "text/plain": [
       "<Figure size 432x288 with 1 Axes>"
      ]
     },
     "metadata": {
      "needs_background": "light"
     },
     "output_type": "display_data"
    },
    {
     "data": {
      "image/png": "[encoded data removed]",
      "text/plain": [
       "<Figure size 432x288 with 1 Axes>"
      ]
     },
     "metadata": {
      "needs_background": "light"
     },
     "output_type": "display_data"
    },
    {
     "data": {
      "image/png": "[encoded data removed]",
      "text/plain": [
       "<Figure size 432x288 with 1 Axes>"
      ]
     },
     "metadata": {
      "needs_background": "light"
     },
     "output_type": "display_data"
    },
    {
     "data": {
      "image/png": "[encoded data removed]",
      "text/plain": [
       "<Figure size 432x288 with 1 Axes>"
      ]
     },
     "metadata": {
      "needs_background": "light"
     },
     "output_type": "display_data"
    },
    {
     "data": {
      "image/png": "[encoded data removed]",
      "text/plain": [
       "<Figure size 432x288 with 1 Axes>"
      ]
     },
     "metadata": {
      "needs_background": "light"
     },
     "output_type": "display_data"
    },
    {
     "data": {
      "image/png": "[encoded data removed]",
      "text/plain": [
       "<Figure size 432x288 with 1 Axes>"
      ]
     },
     "metadata": {
      "needs_background": "light"
     },
     "output_type": "display_data"
    },
    {
     "data": {
      "image/png": "[encoded data removed]",
      "text/plain": [
       "<Figure size 432x288 with 1 Axes>"
      ]
     },
     "metadata": {
      "needs_background": "light"
     },
     "output_type": "display_data"
    },
    {
     "data": {
      "image/png": "[encoded data removed]",
      "text/plain": [
       "<Figure size 432x288 with 1 Axes>"
      ]
     },
     "metadata": {
      "needs_background": "light"
     },
     "output_type": "display_data"
    }
   ],
   "source": [
    "for k in dataframes:\n",
    "    k[\"Profit\"].plot(style=\"o-\")\n",
    "    plt.show()"
   ]
  }
 ],
 "metadata": {
  "kernelspec": {
   "display_name": "Python 3",
   "language": "python",
   "name": "python3"
  },
  "language_info": {
   "codemirror_mode": {
    "name": "ipython",
    "version": 3
   },
   "file_extension": ".py",
   "mimetype": "text/x-python",
   "name": "python",
   "nbconvert_exporter": "python",
   "pygments_lexer": "ipython3",
   "version": "3.7.3"
  }
 },
 "nbformat": 4,
 "nbformat_minor": 2
}
