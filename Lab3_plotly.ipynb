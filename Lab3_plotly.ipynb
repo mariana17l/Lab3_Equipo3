{
 "cells": [
  {
   "cell_type": "markdown",
   "metadata": {},
   "source": [
    "# Microestructuras y Sistemas de Trading\n",
    "## Laboratorio 1\n",
    "### Equipo C"
   ]
  },
  {
   "cell_type": "markdown",
   "metadata": {},
   "source": [
    "## <font color=\"blue\">  \"PARADOX OF CHOICE\""
   ]
  },
  {
   "cell_type": "markdown",
   "metadata": {},
   "source": [
    "* <font color=\"black\">**INTEGRANTE 1 :**</font> Mariana López Correa\n",
    "* <font color=\"black\">**INTEGRANTE 2 :**</font> Axel Francisco Munguía Quintero\n",
    "* <font color=\"black\">**INTEGRANTE 3 :**</font> Mariana López Correa\n",
    "* <font color=\"black\">**INTEGRANTE 2 :**</font> Axel Francisco Munguía Quintero"
   ]
  },
  {
   "cell_type": "code",
   "execution_count": 4,
   "metadata": {},
   "outputs": [
    {
     "data": {
      "text/html": [
       "        <script type=\"text/javascript\">\n",
       "        window.PlotlyConfig = {MathJaxConfig: 'local'};\n",
       "        if (window.MathJax) {MathJax.Hub.Config({SVG: {font: \"STIX-Web\"}});}\n",
       "        if (typeof require !== 'undefined') {\n",
       "        require.undef(\"plotly\");\n",
       "        requirejs.config({\n",
       "            paths: {\n",
       "                'plotly': ['https://cdn.plot.ly/plotly-latest.min']\n",
       "            }\n",
       "        });\n",
       "        require(['plotly'], function(Plotly) {\n",
       "            window._Plotly = Plotly;\n",
       "        });\n",
       "        }\n",
       "        </script>\n",
       "        "
      ]
     },
     "metadata": {},
     "output_type": "display_data"
    }
   ],
   "source": [
    "import numpy as np\n",
    "import pandas as pd\n",
    "import matplotlib.pyplot as plt\n",
    "from datetime import datetime , timedelta\n",
    "from matplotlib import style\n",
    "import plotly.graph_objects as go\n",
    "from plotly.subplots import make_subplots\n",
    "from plotly.offline import init_notebook_mode, plot, iplot\n",
    "init_notebook_mode(connected=True)\n",
    "style.use(\"ggplot\")"
   ]
  },
  {
   "cell_type": "code",
   "execution_count": 5,
   "metadata": {},
   "outputs": [],
   "source": [
    "data= pd.read_excel(\"archivo_tradeview_2.xlsx\",index_col='openTime').sort_index()\n",
    "#data.index=pd.DatetimeIndex(data.index)"
   ]
  },
  {
   "cell_type": "code",
   "execution_count": 6,
   "metadata": {},
   "outputs": [
    {
     "data": {
      "text/html": [
       "<div>\n",
       "<style scoped>\n",
       "    .dataframe tbody tr th:only-of-type {\n",
       "        vertical-align: middle;\n",
       "    }\n",
       "\n",
       "    .dataframe tbody tr th {\n",
       "        vertical-align: top;\n",
       "    }\n",
       "\n",
       "    .dataframe thead th {\n",
       "        text-align: right;\n",
       "    }\n",
       "</style>\n",
       "<table border=\"1\" class=\"dataframe\">\n",
       "  <thead>\n",
       "    <tr style=\"text-align: right;\">\n",
       "      <th></th>\n",
       "      <th>Order</th>\n",
       "      <th>Type</th>\n",
       "      <th>Size</th>\n",
       "      <th>Symbol</th>\n",
       "      <th>openPrice</th>\n",
       "      <th>S/L</th>\n",
       "      <th>T/P</th>\n",
       "      <th>closeTime</th>\n",
       "      <th>closePrice</th>\n",
       "      <th>Commission</th>\n",
       "      <th>Taxes</th>\n",
       "      <th>Swap</th>\n",
       "      <th>Profit</th>\n",
       "    </tr>\n",
       "    <tr>\n",
       "      <th>openTime</th>\n",
       "      <th></th>\n",
       "      <th></th>\n",
       "      <th></th>\n",
       "      <th></th>\n",
       "      <th></th>\n",
       "      <th></th>\n",
       "      <th></th>\n",
       "      <th></th>\n",
       "      <th></th>\n",
       "      <th></th>\n",
       "      <th></th>\n",
       "      <th></th>\n",
       "      <th></th>\n",
       "    </tr>\n",
       "  </thead>\n",
       "  <tbody>\n",
       "    <tr>\n",
       "      <th>2019.08.27 06:18:03</th>\n",
       "      <td>24311675</td>\n",
       "      <td>sell</td>\n",
       "      <td>0.04</td>\n",
       "      <td>eurjpy</td>\n",
       "      <td>117.40700</td>\n",
       "      <td>117.7000</td>\n",
       "      <td>0.000</td>\n",
       "      <td>2019.08.27 06:20:11</td>\n",
       "      <td>117.42300</td>\n",
       "      <td>0.0</td>\n",
       "      <td>0</td>\n",
       "      <td>0</td>\n",
       "      <td>-0.61</td>\n",
       "    </tr>\n",
       "    <tr>\n",
       "      <th>2019.08.27 06:22:44</th>\n",
       "      <td>24311730</td>\n",
       "      <td>sell</td>\n",
       "      <td>0.04</td>\n",
       "      <td>eurjpy</td>\n",
       "      <td>117.38900</td>\n",
       "      <td>117.7000</td>\n",
       "      <td>0.000</td>\n",
       "      <td>2019.08.27 06:23:28</td>\n",
       "      <td>117.41200</td>\n",
       "      <td>0.0</td>\n",
       "      <td>0</td>\n",
       "      <td>0</td>\n",
       "      <td>-0.87</td>\n",
       "    </tr>\n",
       "    <tr>\n",
       "      <th>2019.08.27 06:23:44</th>\n",
       "      <td>24311745</td>\n",
       "      <td>sell</td>\n",
       "      <td>0.04</td>\n",
       "      <td>eurjpy</td>\n",
       "      <td>117.36800</td>\n",
       "      <td>0.0000</td>\n",
       "      <td>0.000</td>\n",
       "      <td>2019.08.27 06:24:13</td>\n",
       "      <td>117.40200</td>\n",
       "      <td>0.0</td>\n",
       "      <td>0</td>\n",
       "      <td>0</td>\n",
       "      <td>-1.29</td>\n",
       "    </tr>\n",
       "    <tr>\n",
       "      <th>2019.08.27 06:45:16</th>\n",
       "      <td>24315841</td>\n",
       "      <td>sell</td>\n",
       "      <td>0.05</td>\n",
       "      <td>eurjpy</td>\n",
       "      <td>117.34300</td>\n",
       "      <td>117.6500</td>\n",
       "      <td>117.100</td>\n",
       "      <td>2019.08.27 09:16:08</td>\n",
       "      <td>117.31500</td>\n",
       "      <td>0.0</td>\n",
       "      <td>0</td>\n",
       "      <td>0</td>\n",
       "      <td>1.32</td>\n",
       "    </tr>\n",
       "    <tr>\n",
       "      <th>2019.08.27 06:52:01</th>\n",
       "      <td>24315970</td>\n",
       "      <td>sell</td>\n",
       "      <td>0.04</td>\n",
       "      <td>eurusd</td>\n",
       "      <td>1.11005</td>\n",
       "      <td>1.1126</td>\n",
       "      <td>1.107</td>\n",
       "      <td>2019.08.27 09:16:04</td>\n",
       "      <td>1.11027</td>\n",
       "      <td>0.0</td>\n",
       "      <td>0</td>\n",
       "      <td>0</td>\n",
       "      <td>-0.88</td>\n",
       "    </tr>\n",
       "  </tbody>\n",
       "</table>\n",
       "</div>"
      ],
      "text/plain": [
       "                        Order  Type  Size  Symbol  openPrice       S/L  \\\n",
       "openTime                                                                 \n",
       "2019.08.27 06:18:03  24311675  sell  0.04  eurjpy  117.40700  117.7000   \n",
       "2019.08.27 06:22:44  24311730  sell  0.04  eurjpy  117.38900  117.7000   \n",
       "2019.08.27 06:23:44  24311745  sell  0.04  eurjpy  117.36800    0.0000   \n",
       "2019.08.27 06:45:16  24315841  sell  0.05  eurjpy  117.34300  117.6500   \n",
       "2019.08.27 06:52:01  24315970  sell  0.04  eurusd    1.11005    1.1126   \n",
       "\n",
       "                         T/P            closeTime  closePrice  Commission  \\\n",
       "openTime                                                                    \n",
       "2019.08.27 06:18:03    0.000  2019.08.27 06:20:11   117.42300         0.0   \n",
       "2019.08.27 06:22:44    0.000  2019.08.27 06:23:28   117.41200         0.0   \n",
       "2019.08.27 06:23:44    0.000  2019.08.27 06:24:13   117.40200         0.0   \n",
       "2019.08.27 06:45:16  117.100  2019.08.27 09:16:08   117.31500         0.0   \n",
       "2019.08.27 06:52:01    1.107  2019.08.27 09:16:04     1.11027         0.0   \n",
       "\n",
       "                     Taxes  Swap  Profit  \n",
       "openTime                                  \n",
       "2019.08.27 06:18:03      0     0   -0.61  \n",
       "2019.08.27 06:22:44      0     0   -0.87  \n",
       "2019.08.27 06:23:44      0     0   -1.29  \n",
       "2019.08.27 06:45:16      0     0    1.32  \n",
       "2019.08.27 06:52:01      0     0   -0.88  "
      ]
     },
     "execution_count": 6,
     "metadata": {},
     "output_type": "execute_result"
    }
   ],
   "source": [
    "data.head()"
   ]
  },
  {
   "cell_type": "code",
   "execution_count": 7,
   "metadata": {},
   "outputs": [],
   "source": [
    "data.index = [data.index[k][:10] for k in range(data.shape[0])]"
   ]
  },
  {
   "cell_type": "code",
   "execution_count": 8,
   "metadata": {},
   "outputs": [
    {
     "data": {
      "text/html": [
       "<div>\n",
       "<style scoped>\n",
       "    .dataframe tbody tr th:only-of-type {\n",
       "        vertical-align: middle;\n",
       "    }\n",
       "\n",
       "    .dataframe tbody tr th {\n",
       "        vertical-align: top;\n",
       "    }\n",
       "\n",
       "    .dataframe thead th {\n",
       "        text-align: right;\n",
       "    }\n",
       "</style>\n",
       "<table border=\"1\" class=\"dataframe\">\n",
       "  <thead>\n",
       "    <tr style=\"text-align: right;\">\n",
       "      <th></th>\n",
       "      <th>Order</th>\n",
       "      <th>Type</th>\n",
       "      <th>Size</th>\n",
       "      <th>Symbol</th>\n",
       "      <th>openPrice</th>\n",
       "      <th>S/L</th>\n",
       "      <th>T/P</th>\n",
       "      <th>closeTime</th>\n",
       "      <th>closePrice</th>\n",
       "      <th>Commission</th>\n",
       "      <th>Taxes</th>\n",
       "      <th>Swap</th>\n",
       "      <th>Profit</th>\n",
       "    </tr>\n",
       "  </thead>\n",
       "  <tbody>\n",
       "    <tr>\n",
       "      <th>2019.08.27</th>\n",
       "      <td>24311675</td>\n",
       "      <td>sell</td>\n",
       "      <td>0.04</td>\n",
       "      <td>eurjpy</td>\n",
       "      <td>117.40700</td>\n",
       "      <td>117.7000</td>\n",
       "      <td>0.000</td>\n",
       "      <td>2019.08.27 06:20:11</td>\n",
       "      <td>117.42300</td>\n",
       "      <td>0.0</td>\n",
       "      <td>0</td>\n",
       "      <td>0</td>\n",
       "      <td>-0.61</td>\n",
       "    </tr>\n",
       "    <tr>\n",
       "      <th>2019.08.27</th>\n",
       "      <td>24311730</td>\n",
       "      <td>sell</td>\n",
       "      <td>0.04</td>\n",
       "      <td>eurjpy</td>\n",
       "      <td>117.38900</td>\n",
       "      <td>117.7000</td>\n",
       "      <td>0.000</td>\n",
       "      <td>2019.08.27 06:23:28</td>\n",
       "      <td>117.41200</td>\n",
       "      <td>0.0</td>\n",
       "      <td>0</td>\n",
       "      <td>0</td>\n",
       "      <td>-0.87</td>\n",
       "    </tr>\n",
       "    <tr>\n",
       "      <th>2019.08.27</th>\n",
       "      <td>24311745</td>\n",
       "      <td>sell</td>\n",
       "      <td>0.04</td>\n",
       "      <td>eurjpy</td>\n",
       "      <td>117.36800</td>\n",
       "      <td>0.0000</td>\n",
       "      <td>0.000</td>\n",
       "      <td>2019.08.27 06:24:13</td>\n",
       "      <td>117.40200</td>\n",
       "      <td>0.0</td>\n",
       "      <td>0</td>\n",
       "      <td>0</td>\n",
       "      <td>-1.29</td>\n",
       "    </tr>\n",
       "    <tr>\n",
       "      <th>2019.08.27</th>\n",
       "      <td>24315841</td>\n",
       "      <td>sell</td>\n",
       "      <td>0.05</td>\n",
       "      <td>eurjpy</td>\n",
       "      <td>117.34300</td>\n",
       "      <td>117.6500</td>\n",
       "      <td>117.100</td>\n",
       "      <td>2019.08.27 09:16:08</td>\n",
       "      <td>117.31500</td>\n",
       "      <td>0.0</td>\n",
       "      <td>0</td>\n",
       "      <td>0</td>\n",
       "      <td>1.32</td>\n",
       "    </tr>\n",
       "    <tr>\n",
       "      <th>2019.08.27</th>\n",
       "      <td>24315970</td>\n",
       "      <td>sell</td>\n",
       "      <td>0.04</td>\n",
       "      <td>eurusd</td>\n",
       "      <td>1.11005</td>\n",
       "      <td>1.1126</td>\n",
       "      <td>1.107</td>\n",
       "      <td>2019.08.27 09:16:04</td>\n",
       "      <td>1.11027</td>\n",
       "      <td>0.0</td>\n",
       "      <td>0</td>\n",
       "      <td>0</td>\n",
       "      <td>-0.88</td>\n",
       "    </tr>\n",
       "  </tbody>\n",
       "</table>\n",
       "</div>"
      ],
      "text/plain": [
       "               Order  Type  Size  Symbol  openPrice       S/L      T/P  \\\n",
       "2019.08.27  24311675  sell  0.04  eurjpy  117.40700  117.7000    0.000   \n",
       "2019.08.27  24311730  sell  0.04  eurjpy  117.38900  117.7000    0.000   \n",
       "2019.08.27  24311745  sell  0.04  eurjpy  117.36800    0.0000    0.000   \n",
       "2019.08.27  24315841  sell  0.05  eurjpy  117.34300  117.6500  117.100   \n",
       "2019.08.27  24315970  sell  0.04  eurusd    1.11005    1.1126    1.107   \n",
       "\n",
       "                      closeTime  closePrice  Commission  Taxes  Swap  Profit  \n",
       "2019.08.27  2019.08.27 06:20:11   117.42300         0.0      0     0   -0.61  \n",
       "2019.08.27  2019.08.27 06:23:28   117.41200         0.0      0     0   -0.87  \n",
       "2019.08.27  2019.08.27 06:24:13   117.40200         0.0      0     0   -1.29  \n",
       "2019.08.27  2019.08.27 09:16:08   117.31500         0.0      0     0    1.32  \n",
       "2019.08.27  2019.08.27 09:16:04     1.11027         0.0      0     0   -0.88  "
      ]
     },
     "execution_count": 8,
     "metadata": {},
     "output_type": "execute_result"
    }
   ],
   "source": [
    "data.head()"
   ]
  },
  {
   "cell_type": "code",
   "execution_count": 9,
   "metadata": {},
   "outputs": [
    {
     "data": {
      "text/html": [
       "<div>\n",
       "<style scoped>\n",
       "    .dataframe tbody tr th:only-of-type {\n",
       "        vertical-align: middle;\n",
       "    }\n",
       "\n",
       "    .dataframe tbody tr th {\n",
       "        vertical-align: top;\n",
       "    }\n",
       "\n",
       "    .dataframe thead th {\n",
       "        text-align: right;\n",
       "    }\n",
       "</style>\n",
       "<table border=\"1\" class=\"dataframe\">\n",
       "  <thead>\n",
       "    <tr style=\"text-align: right;\">\n",
       "      <th></th>\n",
       "      <th>Order</th>\n",
       "      <th>Type</th>\n",
       "      <th>Size</th>\n",
       "      <th>Symbol</th>\n",
       "      <th>openPrice</th>\n",
       "      <th>S/L</th>\n",
       "      <th>T/P</th>\n",
       "      <th>closeTime</th>\n",
       "      <th>closePrice</th>\n",
       "      <th>Commission</th>\n",
       "      <th>Taxes</th>\n",
       "      <th>Swap</th>\n",
       "      <th>Profit</th>\n",
       "    </tr>\n",
       "  </thead>\n",
       "  <tbody>\n",
       "    <tr>\n",
       "      <th>2019.09.25</th>\n",
       "      <td>25159303</td>\n",
       "      <td>sell</td>\n",
       "      <td>0.01</td>\n",
       "      <td>xauusd</td>\n",
       "      <td>1531.28000</td>\n",
       "      <td>1537.0000</td>\n",
       "      <td>0.000</td>\n",
       "      <td>2019.09.25 15:24:35</td>\n",
       "      <td>1527.36000</td>\n",
       "      <td>0.00</td>\n",
       "      <td>0</td>\n",
       "      <td>0</td>\n",
       "      <td>3.92</td>\n",
       "    </tr>\n",
       "    <tr>\n",
       "      <th>2019.09.25</th>\n",
       "      <td>25188529</td>\n",
       "      <td>buy</td>\n",
       "      <td>0.08</td>\n",
       "      <td>usdmxn</td>\n",
       "      <td>19.56233</td>\n",
       "      <td>19.5900</td>\n",
       "      <td>19.900</td>\n",
       "      <td>2019.09.26 21:00:44</td>\n",
       "      <td>19.57897</td>\n",
       "      <td>0.00</td>\n",
       "      <td>0</td>\n",
       "      <td>0</td>\n",
       "      <td>6.80</td>\n",
       "    </tr>\n",
       "    <tr>\n",
       "      <th>2019.09.25</th>\n",
       "      <td>25188553</td>\n",
       "      <td>buy</td>\n",
       "      <td>0.01</td>\n",
       "      <td>usdmxn</td>\n",
       "      <td>19.56103</td>\n",
       "      <td>19.5900</td>\n",
       "      <td>19.900</td>\n",
       "      <td>2019.09.26 21:00:44</td>\n",
       "      <td>19.58247</td>\n",
       "      <td>0.00</td>\n",
       "      <td>0</td>\n",
       "      <td>0</td>\n",
       "      <td>1.09</td>\n",
       "    </tr>\n",
       "    <tr>\n",
       "      <th>2019.09.25</th>\n",
       "      <td>25193432</td>\n",
       "      <td>buy</td>\n",
       "      <td>0.08</td>\n",
       "      <td>eurusd</td>\n",
       "      <td>1.09455</td>\n",
       "      <td>1.0915</td>\n",
       "      <td>1.111</td>\n",
       "      <td>2019.09.26 22:33:46</td>\n",
       "      <td>1.09148</td>\n",
       "      <td>0.00</td>\n",
       "      <td>0</td>\n",
       "      <td>0</td>\n",
       "      <td>-24.56</td>\n",
       "    </tr>\n",
       "    <tr>\n",
       "      <th>2019.09.26</th>\n",
       "      <td>25229583</td>\n",
       "      <td>buy</td>\n",
       "      <td>0.09</td>\n",
       "      <td>btcusd</td>\n",
       "      <td>7910.75000</td>\n",
       "      <td>0.0000</td>\n",
       "      <td>0.000</td>\n",
       "      <td>2019.09.27 15:49:19</td>\n",
       "      <td>7986.78000</td>\n",
       "      <td>-1.07</td>\n",
       "      <td>0</td>\n",
       "      <td>0</td>\n",
       "      <td>6.84</td>\n",
       "    </tr>\n",
       "  </tbody>\n",
       "</table>\n",
       "</div>"
      ],
      "text/plain": [
       "               Order  Type  Size  Symbol   openPrice        S/L     T/P  \\\n",
       "2019.09.25  25159303  sell  0.01  xauusd  1531.28000  1537.0000   0.000   \n",
       "2019.09.25  25188529   buy  0.08  usdmxn    19.56233    19.5900  19.900   \n",
       "2019.09.25  25188553   buy  0.01  usdmxn    19.56103    19.5900  19.900   \n",
       "2019.09.25  25193432   buy  0.08  eurusd     1.09455     1.0915   1.111   \n",
       "2019.09.26  25229583   buy  0.09  btcusd  7910.75000     0.0000   0.000   \n",
       "\n",
       "                      closeTime  closePrice  Commission  Taxes  Swap  Profit  \n",
       "2019.09.25  2019.09.25 15:24:35  1527.36000        0.00      0     0    3.92  \n",
       "2019.09.25  2019.09.26 21:00:44    19.57897        0.00      0     0    6.80  \n",
       "2019.09.25  2019.09.26 21:00:44    19.58247        0.00      0     0    1.09  \n",
       "2019.09.25  2019.09.26 22:33:46     1.09148        0.00      0     0  -24.56  \n",
       "2019.09.26  2019.09.27 15:49:19  7986.78000       -1.07      0     0    6.84  "
      ]
     },
     "execution_count": 9,
     "metadata": {},
     "output_type": "execute_result"
    }
   ],
   "source": [
    "data.tail()"
   ]
  },
  {
   "cell_type": "code",
   "execution_count": 10,
   "metadata": {},
   "outputs": [],
   "source": [
    "dataframes = []\n",
    "contador = 0\n",
    "for k in range(len(data.index[1:])):\n",
    "    if data.index[k-1]==data.index[k]:\n",
    "        contador +=1 \n",
    "    else: \n",
    "        dataframes.append(data.iloc[(k-contador):k,:])\n",
    "        contador= 0\n",
    "dataframes = dataframes[1:]\n",
    "# Eliminar los espacios vacíos\n",
    "dataframes = [k for k in dataframes if len(k)>=1]"
   ]
  },
  {
   "cell_type": "code",
   "execution_count": 11,
   "metadata": {},
   "outputs": [
    {
     "data": {
      "text/html": [
       "<div>\n",
       "<style scoped>\n",
       "    .dataframe tbody tr th:only-of-type {\n",
       "        vertical-align: middle;\n",
       "    }\n",
       "\n",
       "    .dataframe tbody tr th {\n",
       "        vertical-align: top;\n",
       "    }\n",
       "\n",
       "    .dataframe thead th {\n",
       "        text-align: right;\n",
       "    }\n",
       "</style>\n",
       "<table border=\"1\" class=\"dataframe\">\n",
       "  <thead>\n",
       "    <tr style=\"text-align: right;\">\n",
       "      <th></th>\n",
       "      <th>Order</th>\n",
       "      <th>Type</th>\n",
       "      <th>Size</th>\n",
       "      <th>Symbol</th>\n",
       "      <th>openPrice</th>\n",
       "      <th>S/L</th>\n",
       "      <th>T/P</th>\n",
       "      <th>closeTime</th>\n",
       "      <th>closePrice</th>\n",
       "      <th>Commission</th>\n",
       "      <th>Taxes</th>\n",
       "      <th>Swap</th>\n",
       "      <th>Profit</th>\n",
       "    </tr>\n",
       "  </thead>\n",
       "  <tbody>\n",
       "    <tr>\n",
       "      <th>2019.08.27</th>\n",
       "      <td>24311730</td>\n",
       "      <td>sell</td>\n",
       "      <td>0.04</td>\n",
       "      <td>eurjpy</td>\n",
       "      <td>117.38900</td>\n",
       "      <td>117.7000</td>\n",
       "      <td>0.000</td>\n",
       "      <td>2019.08.27 06:23:28</td>\n",
       "      <td>117.41200</td>\n",
       "      <td>0.0</td>\n",
       "      <td>0</td>\n",
       "      <td>0</td>\n",
       "      <td>-0.87</td>\n",
       "    </tr>\n",
       "    <tr>\n",
       "      <th>2019.08.27</th>\n",
       "      <td>24311745</td>\n",
       "      <td>sell</td>\n",
       "      <td>0.04</td>\n",
       "      <td>eurjpy</td>\n",
       "      <td>117.36800</td>\n",
       "      <td>0.0000</td>\n",
       "      <td>0.000</td>\n",
       "      <td>2019.08.27 06:24:13</td>\n",
       "      <td>117.40200</td>\n",
       "      <td>0.0</td>\n",
       "      <td>0</td>\n",
       "      <td>0</td>\n",
       "      <td>-1.29</td>\n",
       "    </tr>\n",
       "    <tr>\n",
       "      <th>2019.08.27</th>\n",
       "      <td>24315841</td>\n",
       "      <td>sell</td>\n",
       "      <td>0.05</td>\n",
       "      <td>eurjpy</td>\n",
       "      <td>117.34300</td>\n",
       "      <td>117.6500</td>\n",
       "      <td>117.100</td>\n",
       "      <td>2019.08.27 09:16:08</td>\n",
       "      <td>117.31500</td>\n",
       "      <td>0.0</td>\n",
       "      <td>0</td>\n",
       "      <td>0</td>\n",
       "      <td>1.32</td>\n",
       "    </tr>\n",
       "    <tr>\n",
       "      <th>2019.08.27</th>\n",
       "      <td>24315970</td>\n",
       "      <td>sell</td>\n",
       "      <td>0.04</td>\n",
       "      <td>eurusd</td>\n",
       "      <td>1.11005</td>\n",
       "      <td>1.1126</td>\n",
       "      <td>1.107</td>\n",
       "      <td>2019.08.27 09:16:04</td>\n",
       "      <td>1.11027</td>\n",
       "      <td>0.0</td>\n",
       "      <td>0</td>\n",
       "      <td>0</td>\n",
       "      <td>-0.88</td>\n",
       "    </tr>\n",
       "    <tr>\n",
       "      <th>2019.08.27</th>\n",
       "      <td>24316034</td>\n",
       "      <td>buy</td>\n",
       "      <td>0.04</td>\n",
       "      <td>xauusd</td>\n",
       "      <td>1529.21000</td>\n",
       "      <td>1523.0000</td>\n",
       "      <td>1543.000</td>\n",
       "      <td>2019.08.27 09:16:01</td>\n",
       "      <td>1533.69000</td>\n",
       "      <td>0.0</td>\n",
       "      <td>0</td>\n",
       "      <td>0</td>\n",
       "      <td>17.92</td>\n",
       "    </tr>\n",
       "    <tr>\n",
       "      <th>2019.08.27</th>\n",
       "      <td>24318553</td>\n",
       "      <td>sell</td>\n",
       "      <td>0.05</td>\n",
       "      <td>eurgbp</td>\n",
       "      <td>0.90821</td>\n",
       "      <td>0.9120</td>\n",
       "      <td>0.903</td>\n",
       "      <td>2019.08.27 13:31:11</td>\n",
       "      <td>0.90559</td>\n",
       "      <td>0.0</td>\n",
       "      <td>0</td>\n",
       "      <td>0</td>\n",
       "      <td>16.07</td>\n",
       "    </tr>\n",
       "    <tr>\n",
       "      <th>2019.08.27</th>\n",
       "      <td>24325707</td>\n",
       "      <td>sell</td>\n",
       "      <td>0.04</td>\n",
       "      <td>eurusd</td>\n",
       "      <td>1.11060</td>\n",
       "      <td>1.1130</td>\n",
       "      <td>1.107</td>\n",
       "      <td>2019.08.27 13:57:03</td>\n",
       "      <td>1.11093</td>\n",
       "      <td>0.0</td>\n",
       "      <td>0</td>\n",
       "      <td>0</td>\n",
       "      <td>-1.32</td>\n",
       "    </tr>\n",
       "    <tr>\n",
       "      <th>2019.08.27</th>\n",
       "      <td>24325723</td>\n",
       "      <td>sell</td>\n",
       "      <td>0.04</td>\n",
       "      <td>eurusd</td>\n",
       "      <td>1.11062</td>\n",
       "      <td>1.1130</td>\n",
       "      <td>1.107</td>\n",
       "      <td>2019.08.27 13:57:57</td>\n",
       "      <td>1.11079</td>\n",
       "      <td>0.0</td>\n",
       "      <td>0</td>\n",
       "      <td>0</td>\n",
       "      <td>-0.68</td>\n",
       "    </tr>\n",
       "    <tr>\n",
       "      <th>2019.08.27</th>\n",
       "      <td>24325740</td>\n",
       "      <td>sell</td>\n",
       "      <td>0.05</td>\n",
       "      <td>eurusd</td>\n",
       "      <td>1.11049</td>\n",
       "      <td>1.1130</td>\n",
       "      <td>1.107</td>\n",
       "      <td>2019.08.27 14:02:05</td>\n",
       "      <td>1.11090</td>\n",
       "      <td>0.0</td>\n",
       "      <td>0</td>\n",
       "      <td>0</td>\n",
       "      <td>-2.05</td>\n",
       "    </tr>\n",
       "    <tr>\n",
       "      <th>2019.08.27</th>\n",
       "      <td>24392449</td>\n",
       "      <td>buy</td>\n",
       "      <td>0.04</td>\n",
       "      <td>eurjpy</td>\n",
       "      <td>117.66400</td>\n",
       "      <td>117.4000</td>\n",
       "      <td>118.700</td>\n",
       "      <td>2019.08.30 09:17:23</td>\n",
       "      <td>117.39900</td>\n",
       "      <td>0.0</td>\n",
       "      <td>0</td>\n",
       "      <td>0</td>\n",
       "      <td>-9.98</td>\n",
       "    </tr>\n",
       "    <tr>\n",
       "      <th>2019.08.27</th>\n",
       "      <td>24334215</td>\n",
       "      <td>buy</td>\n",
       "      <td>0.01</td>\n",
       "      <td>eurjpy</td>\n",
       "      <td>117.66400</td>\n",
       "      <td>116.9500</td>\n",
       "      <td>118.700</td>\n",
       "      <td>2019.08.29 06:38:16</td>\n",
       "      <td>117.37400</td>\n",
       "      <td>0.0</td>\n",
       "      <td>0</td>\n",
       "      <td>0</td>\n",
       "      <td>-2.73</td>\n",
       "    </tr>\n",
       "    <tr>\n",
       "      <th>2019.08.27</th>\n",
       "      <td>24342155</td>\n",
       "      <td>buy</td>\n",
       "      <td>0.05</td>\n",
       "      <td>eurjpy</td>\n",
       "      <td>117.34600</td>\n",
       "      <td>116.9500</td>\n",
       "      <td>119.700</td>\n",
       "      <td>2019.08.28 21:01:24</td>\n",
       "      <td>117.45200</td>\n",
       "      <td>0.0</td>\n",
       "      <td>0</td>\n",
       "      <td>0</td>\n",
       "      <td>5.00</td>\n",
       "    </tr>\n",
       "  </tbody>\n",
       "</table>\n",
       "</div>"
      ],
      "text/plain": [
       "               Order  Type  Size  Symbol   openPrice        S/L       T/P  \\\n",
       "2019.08.27  24311730  sell  0.04  eurjpy   117.38900   117.7000     0.000   \n",
       "2019.08.27  24311745  sell  0.04  eurjpy   117.36800     0.0000     0.000   \n",
       "2019.08.27  24315841  sell  0.05  eurjpy   117.34300   117.6500   117.100   \n",
       "2019.08.27  24315970  sell  0.04  eurusd     1.11005     1.1126     1.107   \n",
       "2019.08.27  24316034   buy  0.04  xauusd  1529.21000  1523.0000  1543.000   \n",
       "2019.08.27  24318553  sell  0.05  eurgbp     0.90821     0.9120     0.903   \n",
       "2019.08.27  24325707  sell  0.04  eurusd     1.11060     1.1130     1.107   \n",
       "2019.08.27  24325723  sell  0.04  eurusd     1.11062     1.1130     1.107   \n",
       "2019.08.27  24325740  sell  0.05  eurusd     1.11049     1.1130     1.107   \n",
       "2019.08.27  24392449   buy  0.04  eurjpy   117.66400   117.4000   118.700   \n",
       "2019.08.27  24334215   buy  0.01  eurjpy   117.66400   116.9500   118.700   \n",
       "2019.08.27  24342155   buy  0.05  eurjpy   117.34600   116.9500   119.700   \n",
       "\n",
       "                      closeTime  closePrice  Commission  Taxes  Swap  Profit  \n",
       "2019.08.27  2019.08.27 06:23:28   117.41200         0.0      0     0   -0.87  \n",
       "2019.08.27  2019.08.27 06:24:13   117.40200         0.0      0     0   -1.29  \n",
       "2019.08.27  2019.08.27 09:16:08   117.31500         0.0      0     0    1.32  \n",
       "2019.08.27  2019.08.27 09:16:04     1.11027         0.0      0     0   -0.88  \n",
       "2019.08.27  2019.08.27 09:16:01  1533.69000         0.0      0     0   17.92  \n",
       "2019.08.27  2019.08.27 13:31:11     0.90559         0.0      0     0   16.07  \n",
       "2019.08.27  2019.08.27 13:57:03     1.11093         0.0      0     0   -1.32  \n",
       "2019.08.27  2019.08.27 13:57:57     1.11079         0.0      0     0   -0.68  \n",
       "2019.08.27  2019.08.27 14:02:05     1.11090         0.0      0     0   -2.05  \n",
       "2019.08.27  2019.08.30 09:17:23   117.39900         0.0      0     0   -9.98  \n",
       "2019.08.27  2019.08.29 06:38:16   117.37400         0.0      0     0   -2.73  \n",
       "2019.08.27  2019.08.28 21:01:24   117.45200         0.0      0     0    5.00  "
      ]
     },
     "execution_count": 11,
     "metadata": {},
     "output_type": "execute_result"
    }
   ],
   "source": [
    "dataframes[0]"
   ]
  },
  {
   "cell_type": "code",
   "execution_count": 12,
   "metadata": {},
   "outputs": [
    {
     "data": {
      "text/html": [
       "<div>\n",
       "<style scoped>\n",
       "    .dataframe tbody tr th:only-of-type {\n",
       "        vertical-align: middle;\n",
       "    }\n",
       "\n",
       "    .dataframe tbody tr th {\n",
       "        vertical-align: top;\n",
       "    }\n",
       "\n",
       "    .dataframe thead th {\n",
       "        text-align: right;\n",
       "    }\n",
       "</style>\n",
       "<table border=\"1\" class=\"dataframe\">\n",
       "  <thead>\n",
       "    <tr style=\"text-align: right;\">\n",
       "      <th></th>\n",
       "      <th>Order</th>\n",
       "      <th>Type</th>\n",
       "      <th>Size</th>\n",
       "      <th>Symbol</th>\n",
       "      <th>openPrice</th>\n",
       "      <th>S/L</th>\n",
       "      <th>T/P</th>\n",
       "      <th>closeTime</th>\n",
       "      <th>closePrice</th>\n",
       "      <th>Commission</th>\n",
       "      <th>Taxes</th>\n",
       "      <th>Swap</th>\n",
       "      <th>Profit</th>\n",
       "    </tr>\n",
       "  </thead>\n",
       "  <tbody>\n",
       "    <tr>\n",
       "      <th>2019.08.28</th>\n",
       "      <td>24373260</td>\n",
       "      <td>buy</td>\n",
       "      <td>0.01</td>\n",
       "      <td>eurusd</td>\n",
       "      <td>1.10791</td>\n",
       "      <td>1.104</td>\n",
       "      <td>1.1175</td>\n",
       "      <td>2019.08.29 06:38:28</td>\n",
       "      <td>1.10818</td>\n",
       "      <td>0.0</td>\n",
       "      <td>0</td>\n",
       "      <td>0</td>\n",
       "      <td>0.27</td>\n",
       "    </tr>\n",
       "  </tbody>\n",
       "</table>\n",
       "</div>"
      ],
      "text/plain": [
       "               Order Type  Size  Symbol  openPrice    S/L     T/P  \\\n",
       "2019.08.28  24373260  buy  0.01  eurusd    1.10791  1.104  1.1175   \n",
       "\n",
       "                      closeTime  closePrice  Commission  Taxes  Swap  Profit  \n",
       "2019.08.28  2019.08.29 06:38:28     1.10818         0.0      0     0    0.27  "
      ]
     },
     "execution_count": 12,
     "metadata": {},
     "output_type": "execute_result"
    }
   ],
   "source": [
    "dataframes[1]"
   ]
  },
  {
   "cell_type": "code",
   "execution_count": 13,
   "metadata": {},
   "outputs": [
    {
     "data": {
      "text/html": [
       "<div>\n",
       "<style scoped>\n",
       "    .dataframe tbody tr th:only-of-type {\n",
       "        vertical-align: middle;\n",
       "    }\n",
       "\n",
       "    .dataframe tbody tr th {\n",
       "        vertical-align: top;\n",
       "    }\n",
       "\n",
       "    .dataframe thead th {\n",
       "        text-align: right;\n",
       "    }\n",
       "</style>\n",
       "<table border=\"1\" class=\"dataframe\">\n",
       "  <thead>\n",
       "    <tr style=\"text-align: right;\">\n",
       "      <th></th>\n",
       "      <th>Order</th>\n",
       "      <th>Type</th>\n",
       "      <th>Size</th>\n",
       "      <th>Symbol</th>\n",
       "      <th>openPrice</th>\n",
       "      <th>S/L</th>\n",
       "      <th>T/P</th>\n",
       "      <th>closeTime</th>\n",
       "      <th>closePrice</th>\n",
       "      <th>Commission</th>\n",
       "      <th>Taxes</th>\n",
       "      <th>Swap</th>\n",
       "      <th>Profit</th>\n",
       "    </tr>\n",
       "  </thead>\n",
       "  <tbody>\n",
       "    <tr>\n",
       "      <th>2019.08.29</th>\n",
       "      <td>24392415</td>\n",
       "      <td>buy</td>\n",
       "      <td>0.01</td>\n",
       "      <td>gbpusd</td>\n",
       "      <td>1.22024</td>\n",
       "      <td>1.2080</td>\n",
       "      <td>1.237</td>\n",
       "      <td>2019.08.29 06:37:23</td>\n",
       "      <td>1.21990</td>\n",
       "      <td>0.0</td>\n",
       "      <td>0</td>\n",
       "      <td>0</td>\n",
       "      <td>-0.34</td>\n",
       "    </tr>\n",
       "    <tr>\n",
       "      <th>2019.08.29</th>\n",
       "      <td>24392425</td>\n",
       "      <td>buy</td>\n",
       "      <td>0.01</td>\n",
       "      <td>gbpjpy</td>\n",
       "      <td>129.23400</td>\n",
       "      <td>128.0000</td>\n",
       "      <td>132.200</td>\n",
       "      <td>2019.08.29 06:36:58</td>\n",
       "      <td>129.21000</td>\n",
       "      <td>0.0</td>\n",
       "      <td>0</td>\n",
       "      <td>0</td>\n",
       "      <td>-0.23</td>\n",
       "    </tr>\n",
       "    <tr>\n",
       "      <th>2019.08.29</th>\n",
       "      <td>24392432</td>\n",
       "      <td>buy</td>\n",
       "      <td>0.04</td>\n",
       "      <td>gbpjpy</td>\n",
       "      <td>129.23400</td>\n",
       "      <td>128.0000</td>\n",
       "      <td>132.200</td>\n",
       "      <td>2019.08.29 15:01:24</td>\n",
       "      <td>129.80100</td>\n",
       "      <td>0.0</td>\n",
       "      <td>0</td>\n",
       "      <td>0</td>\n",
       "      <td>21.35</td>\n",
       "    </tr>\n",
       "    <tr>\n",
       "      <th>2019.08.29</th>\n",
       "      <td>24416172</td>\n",
       "      <td>buy</td>\n",
       "      <td>0.04</td>\n",
       "      <td>eurusd</td>\n",
       "      <td>1.10543</td>\n",
       "      <td>1.1040</td>\n",
       "      <td>0.000</td>\n",
       "      <td>2019.08.29 19:56:51</td>\n",
       "      <td>1.10518</td>\n",
       "      <td>0.0</td>\n",
       "      <td>0</td>\n",
       "      <td>0</td>\n",
       "      <td>-1.00</td>\n",
       "    </tr>\n",
       "    <tr>\n",
       "      <th>2019.08.29</th>\n",
       "      <td>24416187</td>\n",
       "      <td>buy</td>\n",
       "      <td>0.05</td>\n",
       "      <td>eurusd</td>\n",
       "      <td>1.10545</td>\n",
       "      <td>1.1015</td>\n",
       "      <td>0.000</td>\n",
       "      <td>2019.08.30 17:57:14</td>\n",
       "      <td>1.10150</td>\n",
       "      <td>0.0</td>\n",
       "      <td>0</td>\n",
       "      <td>0</td>\n",
       "      <td>-19.75</td>\n",
       "    </tr>\n",
       "    <tr>\n",
       "      <th>2019.08.29</th>\n",
       "      <td>24417804</td>\n",
       "      <td>buy</td>\n",
       "      <td>0.05</td>\n",
       "      <td>xauusd</td>\n",
       "      <td>1528.76000</td>\n",
       "      <td>1524.0000</td>\n",
       "      <td>1555.000</td>\n",
       "      <td>2019.08.29 21:11:08</td>\n",
       "      <td>1523.80000</td>\n",
       "      <td>0.0</td>\n",
       "      <td>0</td>\n",
       "      <td>0</td>\n",
       "      <td>-24.80</td>\n",
       "    </tr>\n",
       "  </tbody>\n",
       "</table>\n",
       "</div>"
      ],
      "text/plain": [
       "               Order Type  Size  Symbol   openPrice        S/L       T/P  \\\n",
       "2019.08.29  24392415  buy  0.01  gbpusd     1.22024     1.2080     1.237   \n",
       "2019.08.29  24392425  buy  0.01  gbpjpy   129.23400   128.0000   132.200   \n",
       "2019.08.29  24392432  buy  0.04  gbpjpy   129.23400   128.0000   132.200   \n",
       "2019.08.29  24416172  buy  0.04  eurusd     1.10543     1.1040     0.000   \n",
       "2019.08.29  24416187  buy  0.05  eurusd     1.10545     1.1015     0.000   \n",
       "2019.08.29  24417804  buy  0.05  xauusd  1528.76000  1524.0000  1555.000   \n",
       "\n",
       "                      closeTime  closePrice  Commission  Taxes  Swap  Profit  \n",
       "2019.08.29  2019.08.29 06:37:23     1.21990         0.0      0     0   -0.34  \n",
       "2019.08.29  2019.08.29 06:36:58   129.21000         0.0      0     0   -0.23  \n",
       "2019.08.29  2019.08.29 15:01:24   129.80100         0.0      0     0   21.35  \n",
       "2019.08.29  2019.08.29 19:56:51     1.10518         0.0      0     0   -1.00  \n",
       "2019.08.29  2019.08.30 17:57:14     1.10150         0.0      0     0  -19.75  \n",
       "2019.08.29  2019.08.29 21:11:08  1523.80000         0.0      0     0  -24.80  "
      ]
     },
     "execution_count": 13,
     "metadata": {},
     "output_type": "execute_result"
    }
   ],
   "source": [
    "dataframes[2]"
   ]
  },
  {
   "cell_type": "code",
   "execution_count": 14,
   "metadata": {},
   "outputs": [
    {
     "data": {
      "text/plain": [
       "[[('eurgbp', [16.07]), ('xauusd', [17.92])],\n",
       " [('eurusd', [0.27])],\n",
       " [('gbpjpy', [21.12])],\n",
       " [('usdjpy', [0.34]), ('xauusd', [17.8])],\n",
       " [('audusd', [10.270000000000001])],\n",
       " [('gbpusd', [9.35])],\n",
       " [('usdcad', [12.64])],\n",
       " [('eurusd', [22.240000000000002]), ('usdjpy', [2.14])],\n",
       " [('eurusd', [17.22]), ('xauusd', [93.06])],\n",
       " [('eurusd', [23.34]), ('gbpusd', [34.32])],\n",
       " [('eurusd', [5.459999999999999])],\n",
       " [('eurusd', [14.46]), ('gbpusd', [1.56]), ('usdmxn', [15.33])],\n",
       " [('xauusd', [55.17])]]"
      ]
     },
     "execution_count": 14,
     "metadata": {},
     "output_type": "execute_result"
    }
   ],
   "source": [
    "# Conocer el No. de Activos que tuvieron rendimiento positivo durante el día (Si tuviste más posiciones de pérdia\n",
    "# que de ganancia sobre un activo no se tomará)\n",
    "def choose_index(dataframe,l):\n",
    "    return dataframes[l].iloc[:,[3,12]].groupby(\"Symbol\").sum()[dataframes[l].iloc[:,[3,12]].groupby(\"Symbol\").sum()>0].dropna().index.values.tolist()\n",
    "def choose_values(dataframe,l):\n",
    "    return  dataframes[l].iloc[:,[3,12]].groupby(\"Symbol\").sum()[dataframes[l].iloc[:,[3,12]].groupby(\"Symbol\").sum()>0].dropna().values.tolist()\n",
    "profits_day = [list(zip(*[choose_index(dataframes,l),choose_values(dataframes,l)])) for l in range(len(dataframes))]\n",
    "profits_day = [l for l in profits_day if len(l)>=1]\n",
    "profits_day"
   ]
  },
  {
   "cell_type": "code",
   "execution_count": 23,
   "metadata": {},
   "outputs": [
    {
     "data": {
      "application/vnd.plotly.v1+json": {
       "config": {
        "plotlyServerURL": "https://plot.ly"
       },
       "data": [
        {
         "type": "scatter",
         "x": [
          1,
          2,
          3
         ],
         "xaxis": "x",
         "y": [
          4,
          5,
          6
         ],
         "yaxis": "y"
        },
        {
         "type": "bar",
         "x": [
          20,
          30,
          40
         ],
         "xaxis": "x2",
         "y": [
          50,
          60,
          70
         ],
         "yaxis": "y2"
        },
        {
         "type": "scatter",
         "x": [
          300,
          400,
          500
         ],
         "xaxis": "x3",
         "y": [
          600,
          700,
          800
         ],
         "yaxis": "y3"
        },
        {
         "type": "bar",
         "x": [
          4000,
          5000,
          6000
         ],
         "xaxis": "x4",
         "y": [
          7000,
          8000,
          9000
         ],
         "yaxis": "y4"
        }
       ],
       "layout": {
        "annotations": [
         {
          "font": {
           "size": 16
          },
          "showarrow": false,
          "text": "No. Activos diarios de los cuales se obtuvieron rendimiento",
          "x": 0.225,
          "xanchor": "center",
          "xref": "paper",
          "y": 1,
          "yanchor": "bottom",
          "yref": "paper"
         },
         {
          "font": {
           "size": 16
          },
          "showarrow": false,
          "text": "Frecuencia de Activos Utilizados cuando son positivos",
          "x": 0.775,
          "xanchor": "center",
          "xref": "paper",
          "y": 1,
          "yanchor": "bottom",
          "yref": "paper"
         },
         {
          "font": {
           "size": 16
          },
          "showarrow": false,
          "text": "Ganancia Promedio por día",
          "x": 0.225,
          "xanchor": "center",
          "xref": "paper",
          "y": 0.375,
          "yanchor": "bottom",
          "yref": "paper"
         },
         {
          "font": {
           "size": 16
          },
          "showarrow": false,
          "text": "Frecuecia Ganancia Promedio por día",
          "x": 0.775,
          "xanchor": "center",
          "xref": "paper",
          "y": 0.375,
          "yanchor": "bottom",
          "yref": "paper"
         }
        ],
        "showlegend": false,
        "template": {
         "data": {
          "bar": [
           {
            "error_x": {
             "color": "#2a3f5f"
            },
            "error_y": {
             "color": "#2a3f5f"
            },
            "marker": {
             "line": {
              "color": "#E5ECF6",
              "width": 0.5
             }
            },
            "type": "bar"
           }
          ],
          "barpolar": [
           {
            "marker": {
             "line": {
              "color": "#E5ECF6",
              "width": 0.5
             }
            },
            "type": "barpolar"
           }
          ],
          "carpet": [
           {
            "aaxis": {
             "endlinecolor": "#2a3f5f",
             "gridcolor": "white",
             "linecolor": "white",
             "minorgridcolor": "white",
             "startlinecolor": "#2a3f5f"
            },
            "baxis": {
             "endlinecolor": "#2a3f5f",
             "gridcolor": "white",
             "linecolor": "white",
             "minorgridcolor": "white",
             "startlinecolor": "#2a3f5f"
            },
            "type": "carpet"
           }
          ],
          "choropleth": [
           {
            "colorbar": {
             "outlinewidth": 0,
             "ticks": ""
            },
            "type": "choropleth"
           }
          ],
          "contour": [
           {
            "colorbar": {
             "outlinewidth": 0,
             "ticks": ""
            },
            "colorscale": [
             [
              0,
              "#0d0887"
             ],
             [
              0.1111111111111111,
              "#46039f"
             ],
             [
              0.2222222222222222,
              "#7201a8"
             ],
             [
              0.3333333333333333,
              "#9c179e"
             ],
             [
              0.4444444444444444,
              "#bd3786"
             ],
             [
              0.5555555555555556,
              "#d8576b"
             ],
             [
              0.6666666666666666,
              "#ed7953"
             ],
             [
              0.7777777777777778,
              "#fb9f3a"
             ],
             [
              0.8888888888888888,
              "#fdca26"
             ],
             [
              1,
              "#f0f921"
             ]
            ],
            "type": "contour"
           }
          ],
          "contourcarpet": [
           {
            "colorbar": {
             "outlinewidth": 0,
             "ticks": ""
            },
            "type": "contourcarpet"
           }
          ],
          "heatmap": [
           {
            "colorbar": {
             "outlinewidth": 0,
             "ticks": ""
            },
            "colorscale": [
             [
              0,
              "#0d0887"
             ],
             [
              0.1111111111111111,
              "#46039f"
             ],
             [
              0.2222222222222222,
              "#7201a8"
             ],
             [
              0.3333333333333333,
              "#9c179e"
             ],
             [
              0.4444444444444444,
              "#bd3786"
             ],
             [
              0.5555555555555556,
              "#d8576b"
             ],
             [
              0.6666666666666666,
              "#ed7953"
             ],
             [
              0.7777777777777778,
              "#fb9f3a"
             ],
             [
              0.8888888888888888,
              "#fdca26"
             ],
             [
              1,
              "#f0f921"
             ]
            ],
            "type": "heatmap"
           }
          ],
          "heatmapgl": [
           {
            "colorbar": {
             "outlinewidth": 0,
             "ticks": ""
            },
            "colorscale": [
             [
              0,
              "#0d0887"
             ],
             [
              0.1111111111111111,
              "#46039f"
             ],
             [
              0.2222222222222222,
              "#7201a8"
             ],
             [
              0.3333333333333333,
              "#9c179e"
             ],
             [
              0.4444444444444444,
              "#bd3786"
             ],
             [
              0.5555555555555556,
              "#d8576b"
             ],
             [
              0.6666666666666666,
              "#ed7953"
             ],
             [
              0.7777777777777778,
              "#fb9f3a"
             ],
             [
              0.8888888888888888,
              "#fdca26"
             ],
             [
              1,
              "#f0f921"
             ]
            ],
            "type": "heatmapgl"
           }
          ],
          "histogram": [
           {
            "marker": {
             "colorbar": {
              "outlinewidth": 0,
              "ticks": ""
             }
            },
            "type": "histogram"
           }
          ],
          "histogram2d": [
           {
            "colorbar": {
             "outlinewidth": 0,
             "ticks": ""
            },
            "colorscale": [
             [
              0,
              "#0d0887"
             ],
             [
              0.1111111111111111,
              "#46039f"
             ],
             [
              0.2222222222222222,
              "#7201a8"
             ],
             [
              0.3333333333333333,
              "#9c179e"
             ],
             [
              0.4444444444444444,
              "#bd3786"
             ],
             [
              0.5555555555555556,
              "#d8576b"
             ],
             [
              0.6666666666666666,
              "#ed7953"
             ],
             [
              0.7777777777777778,
              "#fb9f3a"
             ],
             [
              0.8888888888888888,
              "#fdca26"
             ],
             [
              1,
              "#f0f921"
             ]
            ],
            "type": "histogram2d"
           }
          ],
          "histogram2dcontour": [
           {
            "colorbar": {
             "outlinewidth": 0,
             "ticks": ""
            },
            "colorscale": [
             [
              0,
              "#0d0887"
             ],
             [
              0.1111111111111111,
              "#46039f"
             ],
             [
              0.2222222222222222,
              "#7201a8"
             ],
             [
              0.3333333333333333,
              "#9c179e"
             ],
             [
              0.4444444444444444,
              "#bd3786"
             ],
             [
              0.5555555555555556,
              "#d8576b"
             ],
             [
              0.6666666666666666,
              "#ed7953"
             ],
             [
              0.7777777777777778,
              "#fb9f3a"
             ],
             [
              0.8888888888888888,
              "#fdca26"
             ],
             [
              1,
              "#f0f921"
             ]
            ],
            "type": "histogram2dcontour"
           }
          ],
          "mesh3d": [
           {
            "colorbar": {
             "outlinewidth": 0,
             "ticks": ""
            },
            "type": "mesh3d"
           }
          ],
          "parcoords": [
           {
            "line": {
             "colorbar": {
              "outlinewidth": 0,
              "ticks": ""
             }
            },
            "type": "parcoords"
           }
          ],
          "scatter": [
           {
            "marker": {
             "colorbar": {
              "outlinewidth": 0,
              "ticks": ""
             }
            },
            "type": "scatter"
           }
          ],
          "scatter3d": [
           {
            "line": {
             "colorbar": {
              "outlinewidth": 0,
              "ticks": ""
             }
            },
            "marker": {
             "colorbar": {
              "outlinewidth": 0,
              "ticks": ""
             }
            },
            "type": "scatter3d"
           }
          ],
          "scattercarpet": [
           {
            "marker": {
             "colorbar": {
              "outlinewidth": 0,
              "ticks": ""
             }
            },
            "type": "scattercarpet"
           }
          ],
          "scattergeo": [
           {
            "marker": {
             "colorbar": {
              "outlinewidth": 0,
              "ticks": ""
             }
            },
            "type": "scattergeo"
           }
          ],
          "scattergl": [
           {
            "marker": {
             "colorbar": {
              "outlinewidth": 0,
              "ticks": ""
             }
            },
            "type": "scattergl"
           }
          ],
          "scattermapbox": [
           {
            "marker": {
             "colorbar": {
              "outlinewidth": 0,
              "ticks": ""
             }
            },
            "type": "scattermapbox"
           }
          ],
          "scatterpolar": [
           {
            "marker": {
             "colorbar": {
              "outlinewidth": 0,
              "ticks": ""
             }
            },
            "type": "scatterpolar"
           }
          ],
          "scatterpolargl": [
           {
            "marker": {
             "colorbar": {
              "outlinewidth": 0,
              "ticks": ""
             }
            },
            "type": "scatterpolargl"
           }
          ],
          "scatterternary": [
           {
            "marker": {
             "colorbar": {
              "outlinewidth": 0,
              "ticks": ""
             }
            },
            "type": "scatterternary"
           }
          ],
          "surface": [
           {
            "colorbar": {
             "outlinewidth": 0,
             "ticks": ""
            },
            "colorscale": [
             [
              0,
              "#0d0887"
             ],
             [
              0.1111111111111111,
              "#46039f"
             ],
             [
              0.2222222222222222,
              "#7201a8"
             ],
             [
              0.3333333333333333,
              "#9c179e"
             ],
             [
              0.4444444444444444,
              "#bd3786"
             ],
             [
              0.5555555555555556,
              "#d8576b"
             ],
             [
              0.6666666666666666,
              "#ed7953"
             ],
             [
              0.7777777777777778,
              "#fb9f3a"
             ],
             [
              0.8888888888888888,
              "#fdca26"
             ],
             [
              1,
              "#f0f921"
             ]
            ],
            "type": "surface"
           }
          ],
          "table": [
           {
            "cells": {
             "fill": {
              "color": "#EBF0F8"
             },
             "line": {
              "color": "white"
             }
            },
            "header": {
             "fill": {
              "color": "#C8D4E3"
             },
             "line": {
              "color": "white"
             }
            },
            "type": "table"
           }
          ]
         },
         "layout": {
          "annotationdefaults": {
           "arrowcolor": "#2a3f5f",
           "arrowhead": 0,
           "arrowwidth": 1
          },
          "colorscale": {
           "diverging": [
            [
             0,
             "#8e0152"
            ],
            [
             0.1,
             "#c51b7d"
            ],
            [
             0.2,
             "#de77ae"
            ],
            [
             0.3,
             "#f1b6da"
            ],
            [
             0.4,
             "#fde0ef"
            ],
            [
             0.5,
             "#f7f7f7"
            ],
            [
             0.6,
             "#e6f5d0"
            ],
            [
             0.7,
             "#b8e186"
            ],
            [
             0.8,
             "#7fbc41"
            ],
            [
             0.9,
             "#4d9221"
            ],
            [
             1,
             "#276419"
            ]
           ],
           "sequential": [
            [
             0,
             "#0d0887"
            ],
            [
             0.1111111111111111,
             "#46039f"
            ],
            [
             0.2222222222222222,
             "#7201a8"
            ],
            [
             0.3333333333333333,
             "#9c179e"
            ],
            [
             0.4444444444444444,
             "#bd3786"
            ],
            [
             0.5555555555555556,
             "#d8576b"
            ],
            [
             0.6666666666666666,
             "#ed7953"
            ],
            [
             0.7777777777777778,
             "#fb9f3a"
            ],
            [
             0.8888888888888888,
             "#fdca26"
            ],
            [
             1,
             "#f0f921"
            ]
           ],
           "sequentialminus": [
            [
             0,
             "#0d0887"
            ],
            [
             0.1111111111111111,
             "#46039f"
            ],
            [
             0.2222222222222222,
             "#7201a8"
            ],
            [
             0.3333333333333333,
             "#9c179e"
            ],
            [
             0.4444444444444444,
             "#bd3786"
            ],
            [
             0.5555555555555556,
             "#d8576b"
            ],
            [
             0.6666666666666666,
             "#ed7953"
            ],
            [
             0.7777777777777778,
             "#fb9f3a"
            ],
            [
             0.8888888888888888,
             "#fdca26"
            ],
            [
             1,
             "#f0f921"
            ]
           ]
          },
          "colorway": [
           "#636efa",
           "#EF553B",
           "#00cc96",
           "#ab63fa",
           "#FFA15A",
           "#19d3f3",
           "#FF6692",
           "#B6E880",
           "#FF97FF",
           "#FECB52"
          ],
          "font": {
           "color": "#2a3f5f"
          },
          "geo": {
           "bgcolor": "white",
           "lakecolor": "white",
           "landcolor": "#E5ECF6",
           "showlakes": true,
           "showland": true,
           "subunitcolor": "white"
          },
          "hoverlabel": {
           "align": "left"
          },
          "hovermode": "closest",
          "mapbox": {
           "style": "light"
          },
          "paper_bgcolor": "white",
          "plot_bgcolor": "#E5ECF6",
          "polar": {
           "angularaxis": {
            "gridcolor": "white",
            "linecolor": "white",
            "ticks": ""
           },
           "bgcolor": "#E5ECF6",
           "radialaxis": {
            "gridcolor": "white",
            "linecolor": "white",
            "ticks": ""
           }
          },
          "scene": {
           "xaxis": {
            "backgroundcolor": "#E5ECF6",
            "gridcolor": "white",
            "gridwidth": 2,
            "linecolor": "white",
            "showbackground": true,
            "ticks": "",
            "zerolinecolor": "white"
           },
           "yaxis": {
            "backgroundcolor": "#E5ECF6",
            "gridcolor": "white",
            "gridwidth": 2,
            "linecolor": "white",
            "showbackground": true,
            "ticks": "",
            "zerolinecolor": "white"
           },
           "zaxis": {
            "backgroundcolor": "#E5ECF6",
            "gridcolor": "white",
            "gridwidth": 2,
            "linecolor": "white",
            "showbackground": true,
            "ticks": "",
            "zerolinecolor": "white"
           }
          },
          "shapedefaults": {
           "line": {
            "color": "#2a3f5f"
           }
          },
          "ternary": {
           "aaxis": {
            "gridcolor": "white",
            "linecolor": "white",
            "ticks": ""
           },
           "baxis": {
            "gridcolor": "white",
            "linecolor": "white",
            "ticks": ""
           },
           "bgcolor": "#E5ECF6",
           "caxis": {
            "gridcolor": "white",
            "linecolor": "white",
            "ticks": ""
           }
          },
          "title": {
           "x": 0.05
          },
          "xaxis": {
           "automargin": true,
           "gridcolor": "white",
           "linecolor": "white",
           "ticks": "",
           "zerolinecolor": "white",
           "zerolinewidth": 2
          },
          "yaxis": {
           "automargin": true,
           "gridcolor": "white",
           "linecolor": "white",
           "ticks": "",
           "zerolinecolor": "white",
           "zerolinewidth": 2
          }
         }
        },
        "title": {
         "text": "Análisis de ganancias"
        },
        "xaxis": {
         "anchor": "y",
         "domain": [
          0,
          0.45
         ]
        },
        "xaxis2": {
         "anchor": "y2",
         "domain": [
          0.55,
          1
         ]
        },
        "xaxis3": {
         "anchor": "y3",
         "domain": [
          0,
          0.45
         ]
        },
        "xaxis4": {
         "anchor": "y4",
         "domain": [
          0.55,
          1
         ]
        },
        "yaxis": {
         "anchor": "x",
         "domain": [
          0.625,
          1
         ]
        },
        "yaxis2": {
         "anchor": "x2",
         "domain": [
          0.625,
          1
         ]
        },
        "yaxis3": {
         "anchor": "x3",
         "domain": [
          0,
          0.375
         ]
        },
        "yaxis4": {
         "anchor": "x4",
         "domain": [
          0,
          0.375
         ]
        }
       }
      },
      "text/html": [
       "<div>\n",
       "        \n",
       "        \n",
       "            <div id=\"2cf15e6b-69fc-463b-96f0-fd2c83217500\" class=\"plotly-graph-div\" style=\"height:525px; width:100%;\"></div>\n",
       "            <script type=\"text/javascript\">\n",
       "                require([\"plotly\"], function(Plotly) {\n",
       "                    window.PLOTLYENV=window.PLOTLYENV || {};\n",
       "                    \n",
       "                if (document.getElementById(\"2cf15e6b-69fc-463b-96f0-fd2c83217500\")) {\n",
       "                    Plotly.newPlot(\n",
       "                        '2cf15e6b-69fc-463b-96f0-fd2c83217500',\n",
       "                        [{\"type\": \"scatter\", \"x\": [1, 2, 3], \"xaxis\": \"x\", \"y\": [4, 5, 6], \"yaxis\": \"y\"}, {\"type\": \"bar\", \"x\": [20, 30, 40], \"xaxis\": \"x2\", \"y\": [50, 60, 70], \"yaxis\": \"y2\"}, {\"type\": \"scatter\", \"x\": [300, 400, 500], \"xaxis\": \"x3\", \"y\": [600, 700, 800], \"yaxis\": \"y3\"}, {\"type\": \"bar\", \"x\": [4000, 5000, 6000], \"xaxis\": \"x4\", \"y\": [7000, 8000, 9000], \"yaxis\": \"y4\"}],\n",
       "                        {\"annotations\": [{\"font\": {\"size\": 16}, \"showarrow\": false, \"text\": \"No. Activos diarios de los cuales se obtuvieron rendimiento\", \"x\": 0.225, \"xanchor\": \"center\", \"xref\": \"paper\", \"y\": 1.0, \"yanchor\": \"bottom\", \"yref\": \"paper\"}, {\"font\": {\"size\": 16}, \"showarrow\": false, \"text\": \"Frecuencia de Activos Utilizados cuando son positivos\", \"x\": 0.775, \"xanchor\": \"center\", \"xref\": \"paper\", \"y\": 1.0, \"yanchor\": \"bottom\", \"yref\": \"paper\"}, {\"font\": {\"size\": 16}, \"showarrow\": false, \"text\": \"Ganancia Promedio por d\\u00eda\", \"x\": 0.225, \"xanchor\": \"center\", \"xref\": \"paper\", \"y\": 0.375, \"yanchor\": \"bottom\", \"yref\": \"paper\"}, {\"font\": {\"size\": 16}, \"showarrow\": false, \"text\": \"Frecuecia Ganancia Promedio por d\\u00eda\", \"x\": 0.775, \"xanchor\": \"center\", \"xref\": \"paper\", \"y\": 0.375, \"yanchor\": \"bottom\", \"yref\": \"paper\"}], \"showlegend\": false, \"template\": {\"data\": {\"bar\": [{\"error_x\": {\"color\": \"#2a3f5f\"}, \"error_y\": {\"color\": \"#2a3f5f\"}, \"marker\": {\"line\": {\"color\": \"#E5ECF6\", \"width\": 0.5}}, \"type\": \"bar\"}], \"barpolar\": [{\"marker\": {\"line\": {\"color\": \"#E5ECF6\", \"width\": 0.5}}, \"type\": \"barpolar\"}], \"carpet\": [{\"aaxis\": {\"endlinecolor\": \"#2a3f5f\", \"gridcolor\": \"white\", \"linecolor\": \"white\", \"minorgridcolor\": \"white\", \"startlinecolor\": \"#2a3f5f\"}, \"baxis\": {\"endlinecolor\": \"#2a3f5f\", \"gridcolor\": \"white\", \"linecolor\": \"white\", \"minorgridcolor\": \"white\", \"startlinecolor\": \"#2a3f5f\"}, \"type\": \"carpet\"}], \"choropleth\": [{\"colorbar\": {\"outlinewidth\": 0, \"ticks\": \"\"}, \"type\": \"choropleth\"}], \"contour\": [{\"colorbar\": {\"outlinewidth\": 0, \"ticks\": \"\"}, \"colorscale\": [[0.0, \"#0d0887\"], [0.1111111111111111, \"#46039f\"], [0.2222222222222222, \"#7201a8\"], [0.3333333333333333, \"#9c179e\"], [0.4444444444444444, \"#bd3786\"], [0.5555555555555556, \"#d8576b\"], [0.6666666666666666, \"#ed7953\"], [0.7777777777777778, \"#fb9f3a\"], [0.8888888888888888, \"#fdca26\"], [1.0, \"#f0f921\"]], \"type\": \"contour\"}], \"contourcarpet\": [{\"colorbar\": {\"outlinewidth\": 0, \"ticks\": \"\"}, \"type\": \"contourcarpet\"}], \"heatmap\": [{\"colorbar\": {\"outlinewidth\": 0, \"ticks\": \"\"}, \"colorscale\": [[0.0, \"#0d0887\"], [0.1111111111111111, \"#46039f\"], [0.2222222222222222, \"#7201a8\"], [0.3333333333333333, \"#9c179e\"], [0.4444444444444444, \"#bd3786\"], [0.5555555555555556, \"#d8576b\"], [0.6666666666666666, \"#ed7953\"], [0.7777777777777778, \"#fb9f3a\"], [0.8888888888888888, \"#fdca26\"], [1.0, \"#f0f921\"]], \"type\": \"heatmap\"}], \"heatmapgl\": [{\"colorbar\": {\"outlinewidth\": 0, \"ticks\": \"\"}, \"colorscale\": [[0.0, \"#0d0887\"], [0.1111111111111111, \"#46039f\"], [0.2222222222222222, \"#7201a8\"], [0.3333333333333333, \"#9c179e\"], [0.4444444444444444, \"#bd3786\"], [0.5555555555555556, \"#d8576b\"], [0.6666666666666666, \"#ed7953\"], [0.7777777777777778, \"#fb9f3a\"], [0.8888888888888888, \"#fdca26\"], [1.0, \"#f0f921\"]], \"type\": \"heatmapgl\"}], \"histogram\": [{\"marker\": {\"colorbar\": {\"outlinewidth\": 0, \"ticks\": \"\"}}, \"type\": \"histogram\"}], \"histogram2d\": [{\"colorbar\": {\"outlinewidth\": 0, \"ticks\": \"\"}, \"colorscale\": [[0.0, \"#0d0887\"], [0.1111111111111111, \"#46039f\"], [0.2222222222222222, \"#7201a8\"], [0.3333333333333333, \"#9c179e\"], [0.4444444444444444, \"#bd3786\"], [0.5555555555555556, \"#d8576b\"], [0.6666666666666666, \"#ed7953\"], [0.7777777777777778, \"#fb9f3a\"], [0.8888888888888888, \"#fdca26\"], [1.0, \"#f0f921\"]], \"type\": \"histogram2d\"}], \"histogram2dcontour\": [{\"colorbar\": {\"outlinewidth\": 0, \"ticks\": \"\"}, \"colorscale\": [[0.0, \"#0d0887\"], [0.1111111111111111, \"#46039f\"], [0.2222222222222222, \"#7201a8\"], [0.3333333333333333, \"#9c179e\"], [0.4444444444444444, \"#bd3786\"], [0.5555555555555556, \"#d8576b\"], [0.6666666666666666, \"#ed7953\"], [0.7777777777777778, \"#fb9f3a\"], [0.8888888888888888, \"#fdca26\"], [1.0, \"#f0f921\"]], \"type\": \"histogram2dcontour\"}], \"mesh3d\": [{\"colorbar\": {\"outlinewidth\": 0, \"ticks\": \"\"}, \"type\": \"mesh3d\"}], \"parcoords\": [{\"line\": {\"colorbar\": {\"outlinewidth\": 0, \"ticks\": \"\"}}, \"type\": \"parcoords\"}], \"scatter\": [{\"marker\": {\"colorbar\": {\"outlinewidth\": 0, \"ticks\": \"\"}}, \"type\": \"scatter\"}], \"scatter3d\": [{\"line\": {\"colorbar\": {\"outlinewidth\": 0, \"ticks\": \"\"}}, \"marker\": {\"colorbar\": {\"outlinewidth\": 0, \"ticks\": \"\"}}, \"type\": \"scatter3d\"}], \"scattercarpet\": [{\"marker\": {\"colorbar\": {\"outlinewidth\": 0, \"ticks\": \"\"}}, \"type\": \"scattercarpet\"}], \"scattergeo\": [{\"marker\": {\"colorbar\": {\"outlinewidth\": 0, \"ticks\": \"\"}}, \"type\": \"scattergeo\"}], \"scattergl\": [{\"marker\": {\"colorbar\": {\"outlinewidth\": 0, \"ticks\": \"\"}}, \"type\": \"scattergl\"}], \"scattermapbox\": [{\"marker\": {\"colorbar\": {\"outlinewidth\": 0, \"ticks\": \"\"}}, \"type\": \"scattermapbox\"}], \"scatterpolar\": [{\"marker\": {\"colorbar\": {\"outlinewidth\": 0, \"ticks\": \"\"}}, \"type\": \"scatterpolar\"}], \"scatterpolargl\": [{\"marker\": {\"colorbar\": {\"outlinewidth\": 0, \"ticks\": \"\"}}, \"type\": \"scatterpolargl\"}], \"scatterternary\": [{\"marker\": {\"colorbar\": {\"outlinewidth\": 0, \"ticks\": \"\"}}, \"type\": \"scatterternary\"}], \"surface\": [{\"colorbar\": {\"outlinewidth\": 0, \"ticks\": \"\"}, \"colorscale\": [[0.0, \"#0d0887\"], [0.1111111111111111, \"#46039f\"], [0.2222222222222222, \"#7201a8\"], [0.3333333333333333, \"#9c179e\"], [0.4444444444444444, \"#bd3786\"], [0.5555555555555556, \"#d8576b\"], [0.6666666666666666, \"#ed7953\"], [0.7777777777777778, \"#fb9f3a\"], [0.8888888888888888, \"#fdca26\"], [1.0, \"#f0f921\"]], \"type\": \"surface\"}], \"table\": [{\"cells\": {\"fill\": {\"color\": \"#EBF0F8\"}, \"line\": {\"color\": \"white\"}}, \"header\": {\"fill\": {\"color\": \"#C8D4E3\"}, \"line\": {\"color\": \"white\"}}, \"type\": \"table\"}]}, \"layout\": {\"annotationdefaults\": {\"arrowcolor\": \"#2a3f5f\", \"arrowhead\": 0, \"arrowwidth\": 1}, \"colorscale\": {\"diverging\": [[0, \"#8e0152\"], [0.1, \"#c51b7d\"], [0.2, \"#de77ae\"], [0.3, \"#f1b6da\"], [0.4, \"#fde0ef\"], [0.5, \"#f7f7f7\"], [0.6, \"#e6f5d0\"], [0.7, \"#b8e186\"], [0.8, \"#7fbc41\"], [0.9, \"#4d9221\"], [1, \"#276419\"]], \"sequential\": [[0.0, \"#0d0887\"], [0.1111111111111111, \"#46039f\"], [0.2222222222222222, \"#7201a8\"], [0.3333333333333333, \"#9c179e\"], [0.4444444444444444, \"#bd3786\"], [0.5555555555555556, \"#d8576b\"], [0.6666666666666666, \"#ed7953\"], [0.7777777777777778, \"#fb9f3a\"], [0.8888888888888888, \"#fdca26\"], [1.0, \"#f0f921\"]], \"sequentialminus\": [[0.0, \"#0d0887\"], [0.1111111111111111, \"#46039f\"], [0.2222222222222222, \"#7201a8\"], [0.3333333333333333, \"#9c179e\"], [0.4444444444444444, \"#bd3786\"], [0.5555555555555556, \"#d8576b\"], [0.6666666666666666, \"#ed7953\"], [0.7777777777777778, \"#fb9f3a\"], [0.8888888888888888, \"#fdca26\"], [1.0, \"#f0f921\"]]}, \"colorway\": [\"#636efa\", \"#EF553B\", \"#00cc96\", \"#ab63fa\", \"#FFA15A\", \"#19d3f3\", \"#FF6692\", \"#B6E880\", \"#FF97FF\", \"#FECB52\"], \"font\": {\"color\": \"#2a3f5f\"}, \"geo\": {\"bgcolor\": \"white\", \"lakecolor\": \"white\", \"landcolor\": \"#E5ECF6\", \"showlakes\": true, \"showland\": true, \"subunitcolor\": \"white\"}, \"hoverlabel\": {\"align\": \"left\"}, \"hovermode\": \"closest\", \"mapbox\": {\"style\": \"light\"}, \"paper_bgcolor\": \"white\", \"plot_bgcolor\": \"#E5ECF6\", \"polar\": {\"angularaxis\": {\"gridcolor\": \"white\", \"linecolor\": \"white\", \"ticks\": \"\"}, \"bgcolor\": \"#E5ECF6\", \"radialaxis\": {\"gridcolor\": \"white\", \"linecolor\": \"white\", \"ticks\": \"\"}}, \"scene\": {\"xaxis\": {\"backgroundcolor\": \"#E5ECF6\", \"gridcolor\": \"white\", \"gridwidth\": 2, \"linecolor\": \"white\", \"showbackground\": true, \"ticks\": \"\", \"zerolinecolor\": \"white\"}, \"yaxis\": {\"backgroundcolor\": \"#E5ECF6\", \"gridcolor\": \"white\", \"gridwidth\": 2, \"linecolor\": \"white\", \"showbackground\": true, \"ticks\": \"\", \"zerolinecolor\": \"white\"}, \"zaxis\": {\"backgroundcolor\": \"#E5ECF6\", \"gridcolor\": \"white\", \"gridwidth\": 2, \"linecolor\": \"white\", \"showbackground\": true, \"ticks\": \"\", \"zerolinecolor\": \"white\"}}, \"shapedefaults\": {\"line\": {\"color\": \"#2a3f5f\"}}, \"ternary\": {\"aaxis\": {\"gridcolor\": \"white\", \"linecolor\": \"white\", \"ticks\": \"\"}, \"baxis\": {\"gridcolor\": \"white\", \"linecolor\": \"white\", \"ticks\": \"\"}, \"bgcolor\": \"#E5ECF6\", \"caxis\": {\"gridcolor\": \"white\", \"linecolor\": \"white\", \"ticks\": \"\"}}, \"title\": {\"x\": 0.05}, \"xaxis\": {\"automargin\": true, \"gridcolor\": \"white\", \"linecolor\": \"white\", \"ticks\": \"\", \"zerolinecolor\": \"white\", \"zerolinewidth\": 2}, \"yaxis\": {\"automargin\": true, \"gridcolor\": \"white\", \"linecolor\": \"white\", \"ticks\": \"\", \"zerolinecolor\": \"white\", \"zerolinewidth\": 2}}}, \"title\": {\"text\": \"An\\u00e1lisis de ganancias\"}, \"xaxis\": {\"anchor\": \"y\", \"domain\": [0.0, 0.45]}, \"xaxis2\": {\"anchor\": \"y2\", \"domain\": [0.55, 1.0]}, \"xaxis3\": {\"anchor\": \"y3\", \"domain\": [0.0, 0.45]}, \"xaxis4\": {\"anchor\": \"y4\", \"domain\": [0.55, 1.0]}, \"yaxis\": {\"anchor\": \"x\", \"domain\": [0.625, 1.0]}, \"yaxis2\": {\"anchor\": \"x2\", \"domain\": [0.625, 1.0]}, \"yaxis3\": {\"anchor\": \"x3\", \"domain\": [0.0, 0.375]}, \"yaxis4\": {\"anchor\": \"x4\", \"domain\": [0.0, 0.375]}},\n",
       "                        {\"responsive\": true}\n",
       "                    ).then(function(){\n",
       "                            \n",
       "var gd = document.getElementById('2cf15e6b-69fc-463b-96f0-fd2c83217500');\n",
       "var x = new MutationObserver(function (mutations, observer) {{\n",
       "        var display = window.getComputedStyle(gd).display;\n",
       "        if (!display || display === 'none') {{\n",
       "            console.log([gd, 'removed!']);\n",
       "            Plotly.purge(gd);\n",
       "            observer.disconnect();\n",
       "        }}\n",
       "}});\n",
       "\n",
       "// Listen for the removal of the full notebook cells\n",
       "var notebookContainer = gd.closest('#notebook-container');\n",
       "if (notebookContainer) {{\n",
       "    x.observe(notebookContainer, {childList: true});\n",
       "}}\n",
       "\n",
       "// Listen for the clearing of the current output cell\n",
       "var outputEl = gd.closest('.output');\n",
       "if (outputEl) {{\n",
       "    x.observe(outputEl, {childList: true});\n",
       "}}\n",
       "\n",
       "                        })\n",
       "                };\n",
       "                });\n",
       "            </script>\n",
       "        </div>"
      ]
     },
     "metadata": {},
     "output_type": "display_data"
    }
   ],
   "source": [
    "# FALTA PONER EJES\n",
    "# CENTRAR TITULO\n",
    "# CAMBIAR TAMAÑO DE GRAFICOS\n",
    "# CAMBIAR INFO(X,Y)\n",
    "fig = make_subplots(rows=2, cols=2,subplot_titles=(\"No. Activos diarios de los cuales se obtuvieron rendimiento\",\n",
    "                                                   \"Frecuencia de Activos Utilizados cuando son positivos\",\n",
    "                                                   \"Ganancia Promedio por día\", \"Frecuecia Ganancia Promedio por día\"));\n",
    "\n",
    "data = fig.add_trace(go.Scatter(x=[1, 2, 3], y=[4, 5, 6]),\n",
    "              row=1, col=1)\n",
    "\n",
    "fig.add_trace(go.Bar(x=[20, 30, 40], y=[50, 60, 70]),\n",
    "              row=1, col=2)\n",
    "\n",
    "fig.add_trace(go.Scatter(x=[300, 400, 500], y=[600, 700, 800]),\n",
    "              row=2, col=1)\n",
    "\n",
    "fig.add_trace(go.Bar(x=[4000, 5000, 6000], y=[7000, 8000, 9000]),\n",
    "              row=2, col=2)\n",
    "\n",
    "fig.update_layout(showlegend=False, title_text=\"Análisis de ganancias\")\n",
    "\n",
    "fig.show()"
   ]
  },
  {
   "cell_type": "code",
   "execution_count": 16,
   "metadata": {},
   "outputs": [
    {
     "data": {
      "image/png": "[encoded data removed]",
      "text/plain": [
       "<Figure size 432x288 with 4 Axes>"
      ]
     },
     "metadata": {},
     "output_type": "display_data"
    }
   ],
   "source": [
    "fig,((ax,ax1),(ax2,ax3)) = plt.subplots(2,2)\n",
    "ax.plot([len(l) for l in profits_day],\"o-\", label=\"No. Activos diarios de los cuales\\n se obtuvieron rendimiento\")\n",
    "ax.legend()\n",
    "ax.set_xlabel(\"Días\")\n",
    "ax.set_ylabel(\"No. Activos\")\n",
    "\n",
    "ax1.hist([len(l) for l in profits_day],stacked=True, label=\"Frecuencia de Activos Utilizados \\n cuando son positivos\")\n",
    "ax1.set_xlabel(\"No. Activos\")\n",
    "ax1.legend()\n",
    "ax1.set_ylabel(\"Frecuencia\")\n",
    "\n",
    "ax2.plot([np.mean([k[1] for k in l]) for l in profits_day ],\"o-\", label=\"Ganancia Promedio por día\")\n",
    "ax2.legend()\n",
    "ax2.set_xlabel(\"Días\")\n",
    "ax2.set_ylabel(\"Dinero \")\n",
    "\n",
    "ax3.hist([np.mean([k[1] for k in l]) for l in profits_day ], label=\"Frecuecia Ganancia Promedio por día\")\n",
    "ax3.legend()\n",
    "ax3.set_xlabel(\"Dinero\")\n",
    "ax3.set_ylabel(\"Frecuencia\")\n",
    "\n",
    "plt.subplots_adjust(right=2., top=2.)\n",
    "plt.show()"
   ]
  },
  {
   "cell_type": "code",
   "execution_count": 17,
   "metadata": {},
   "outputs": [
    {
     "data": {
      "text/plain": [
       "[[('eurjpy', [-8.55]), ('eurusd', [-4.93])],\n",
       " [('eurusd', [-20.75]), ('gbpusd', [-0.34]), ('xauusd', [-24.8])],\n",
       " [('eurusd', [-25.8]), ('gbpusd', [-33.64]), ('usdcad', [-0.26])],\n",
       " [('gbpjpy', [-0.31]), ('usdjpy', [-21.88]), ('xauusd', [-68.0])],\n",
       " [('audusd', [-12.1])],\n",
       " [('eurusd', [-4.5])],\n",
       " [('usdmxn', [-29.39]), ('xauusd', [-0.58])]]"
      ]
     },
     "execution_count": 17,
     "metadata": {},
     "output_type": "execute_result"
    }
   ],
   "source": [
    "# Conocer el No. de Activos que tuvieron rendimiento positivo durante el día (Si tuviste más posiciones de pérdia\n",
    "# que de ganancia sobre un activo no se tomará)\n",
    "def choose_index(dataframe,l):\n",
    "    return dataframes[l].iloc[:,[3,12]].groupby(\"Symbol\").sum()[dataframes[l].iloc[:,[3,12]].groupby(\"Symbol\").sum()<0].dropna().index.values.tolist()\n",
    "def choose_values(dataframe,l):\n",
    "    return  dataframes[l].iloc[:,[3,12]].groupby(\"Symbol\").sum()[dataframes[l].iloc[:,[3,12]].groupby(\"Symbol\").sum()<0].dropna().values.tolist()\n",
    "no_profits_day = [list(zip(*[choose_index(dataframes,l),choose_values(dataframes,l)])) for l in range(len(dataframes))]\n",
    "no_profits_day = [l for l in no_profits_day if len(l)>=1]\n",
    "no_profits_day"
   ]
  },
  {
   "cell_type": "code",
   "execution_count": null,
   "metadata": {},
   "outputs": [],
   "source": [
    "fig,((ax,ax1),(ax2,ax3)) = plt.subplots(2,2)\n",
    "ax.plot([len(l) for l in no_profits_day],\"o-\", label=\"No. Activos diarios de los cuales\\n no se obtuvieron rendimiento\")\n",
    "ax.legend()\n",
    "ax.set_xlabel(\"Días\")\n",
    "ax.set_ylabel(\"No. Activos\")\n",
    "ax1.hist([len(l) for l in no_profits_day],stacked=True, label=\"Frecuencia de Activos Utilizados \\n cuando son no positivos\")\n",
    "ax1.set_xlabel(\"No. Activos\")\n",
    "ax1.legend()\n",
    "ax1.set_ylabel(\"Frecuencia\")\n",
    "ax2.plot([np.mean([k[1] for k in l]) for l in  no_profits_day ],\"o-\", label=\"Pérdida Promedio por día\")\n",
    "ax2.legend()\n",
    "ax2.set_xlabel(\"Días\")\n",
    "ax2.set_ylabel(\"Dinero \")\n",
    "ax3.hist([np.mean([k[1] for k in l]) for l in no_profits_day ], label=\"Frecuecia de Pérdida Promedio por día\")\n",
    "ax3.legend()\n",
    "ax3.set_xlabel(\"Dinero\")\n",
    "ax3.set_ylabel(\"Frecuencia\")\n",
    "plt.subplots_adjust(right=2., top=2.)\n",
    "plt.show()"
   ]
  },
  {
   "cell_type": "code",
   "execution_count": null,
   "metadata": {},
   "outputs": [],
   "source": []
  },
  {
   "cell_type": "code",
   "execution_count": null,
   "metadata": {},
   "outputs": [],
   "source": []
  }
 ],
 "metadata": {
  "kernelspec": {
   "display_name": "Python 3",
   "language": "python",
   "name": "python3"
  },
  "language_info": {
   "codemirror_mode": {
    "name": "ipython",
    "version": 3
   },
   "file_extension": ".py",
   "mimetype": "text/x-python",
   "name": "python",
   "nbconvert_exporter": "python",
   "pygments_lexer": "ipython3",
   "version": "3.7.1"
  }
 },
 "nbformat": 4,
 "nbformat_minor": 2
}
